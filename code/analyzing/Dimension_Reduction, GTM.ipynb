{
 "cells": [
  {
   "cell_type": "markdown",
   "metadata": {},
   "source": [
    "# 차원축소 using LSA(Truncated SVD) => 설명력 높이기"
   ]
  },
  {
   "cell_type": "code",
   "execution_count": 1,
   "metadata": {},
   "outputs": [],
   "source": [
    "# 필요한 라이브러리 import\n",
    "\n",
    "import pandas as pd\n",
    "import numpy as np\n",
    "import matplotlib.pyplot as plt\n",
    "import seaborn as sns\n",
    "from sklearn.decomposition import TruncatedSVD"
   ]
  },
  {
   "cell_type": "markdown",
   "metadata": {},
   "source": [
    "## TruncatedSVD"
   ]
  },
  {
   "cell_type": "code",
   "execution_count": 7,
   "metadata": {},
   "outputs": [],
   "source": [
    "# 데이터 불러오기\n",
    "tfidf = pd.read_csv(\"../data/textvector/tfidf.csv\")"
   ]
  },
  {
   "cell_type": "code",
   "execution_count": 8,
   "metadata": {},
   "outputs": [
    {
     "data": {
      "text/html": [
       "<div>\n",
       "<style scoped>\n",
       "    .dataframe tbody tr th:only-of-type {\n",
       "        vertical-align: middle;\n",
       "    }\n",
       "\n",
       "    .dataframe tbody tr th {\n",
       "        vertical-align: top;\n",
       "    }\n",
       "\n",
       "    .dataframe thead th {\n",
       "        text-align: right;\n",
       "    }\n",
       "</style>\n",
       "<table border=\"1\" class=\"dataframe\">\n",
       "  <thead>\n",
       "    <tr style=\"text-align: right;\">\n",
       "      <th></th>\n",
       "      <th>patent_number</th>\n",
       "      <th>access</th>\n",
       "      <th>accordance</th>\n",
       "      <th>account</th>\n",
       "      <th>acquisition</th>\n",
       "      <th>action</th>\n",
       "      <th>activity</th>\n",
       "      <th>adherence</th>\n",
       "      <th>administration</th>\n",
       "      <th>agent</th>\n",
       "      <th>...</th>\n",
       "      <th>use</th>\n",
       "      <th>user</th>\n",
       "      <th>value</th>\n",
       "      <th>vector</th>\n",
       "      <th>vessel</th>\n",
       "      <th>video</th>\n",
       "      <th>view</th>\n",
       "      <th>volume</th>\n",
       "      <th>wireless</th>\n",
       "      <th>AAFC</th>\n",
       "    </tr>\n",
       "  </thead>\n",
       "  <tbody>\n",
       "    <tr>\n",
       "      <th>0</th>\n",
       "      <td>10636516</td>\n",
       "      <td>0.0</td>\n",
       "      <td>0.000000</td>\n",
       "      <td>0.0</td>\n",
       "      <td>0.0</td>\n",
       "      <td>0.0</td>\n",
       "      <td>0.0</td>\n",
       "      <td>0.0</td>\n",
       "      <td>0.0</td>\n",
       "      <td>0.000000</td>\n",
       "      <td>...</td>\n",
       "      <td>0.000000</td>\n",
       "      <td>0.148168</td>\n",
       "      <td>0.000000</td>\n",
       "      <td>0.0</td>\n",
       "      <td>0.0</td>\n",
       "      <td>0.0</td>\n",
       "      <td>0.0</td>\n",
       "      <td>0.0</td>\n",
       "      <td>0.0</td>\n",
       "      <td>1</td>\n",
       "    </tr>\n",
       "    <tr>\n",
       "      <th>1</th>\n",
       "      <td>9305140</td>\n",
       "      <td>0.0</td>\n",
       "      <td>0.000000</td>\n",
       "      <td>0.0</td>\n",
       "      <td>0.0</td>\n",
       "      <td>0.0</td>\n",
       "      <td>0.0</td>\n",
       "      <td>0.0</td>\n",
       "      <td>0.0</td>\n",
       "      <td>0.000000</td>\n",
       "      <td>...</td>\n",
       "      <td>0.000000</td>\n",
       "      <td>0.000000</td>\n",
       "      <td>0.000000</td>\n",
       "      <td>0.0</td>\n",
       "      <td>0.0</td>\n",
       "      <td>0.0</td>\n",
       "      <td>0.0</td>\n",
       "      <td>0.0</td>\n",
       "      <td>0.0</td>\n",
       "      <td>5</td>\n",
       "    </tr>\n",
       "    <tr>\n",
       "      <th>2</th>\n",
       "      <td>10417446</td>\n",
       "      <td>0.0</td>\n",
       "      <td>0.000000</td>\n",
       "      <td>0.0</td>\n",
       "      <td>0.0</td>\n",
       "      <td>0.0</td>\n",
       "      <td>0.0</td>\n",
       "      <td>0.0</td>\n",
       "      <td>0.0</td>\n",
       "      <td>0.000000</td>\n",
       "      <td>...</td>\n",
       "      <td>0.339754</td>\n",
       "      <td>0.000000</td>\n",
       "      <td>0.000000</td>\n",
       "      <td>0.0</td>\n",
       "      <td>0.0</td>\n",
       "      <td>0.0</td>\n",
       "      <td>0.0</td>\n",
       "      <td>0.0</td>\n",
       "      <td>0.0</td>\n",
       "      <td>50</td>\n",
       "    </tr>\n",
       "    <tr>\n",
       "      <th>3</th>\n",
       "      <td>11170881</td>\n",
       "      <td>0.0</td>\n",
       "      <td>0.000000</td>\n",
       "      <td>0.0</td>\n",
       "      <td>0.0</td>\n",
       "      <td>0.0</td>\n",
       "      <td>0.0</td>\n",
       "      <td>0.0</td>\n",
       "      <td>0.0</td>\n",
       "      <td>0.000000</td>\n",
       "      <td>...</td>\n",
       "      <td>0.000000</td>\n",
       "      <td>0.090718</td>\n",
       "      <td>0.000000</td>\n",
       "      <td>0.0</td>\n",
       "      <td>0.0</td>\n",
       "      <td>0.0</td>\n",
       "      <td>0.0</td>\n",
       "      <td>0.0</td>\n",
       "      <td>0.0</td>\n",
       "      <td>0</td>\n",
       "    </tr>\n",
       "    <tr>\n",
       "      <th>4</th>\n",
       "      <td>10665334</td>\n",
       "      <td>0.0</td>\n",
       "      <td>0.000000</td>\n",
       "      <td>0.0</td>\n",
       "      <td>0.0</td>\n",
       "      <td>0.0</td>\n",
       "      <td>0.0</td>\n",
       "      <td>0.0</td>\n",
       "      <td>0.0</td>\n",
       "      <td>0.000000</td>\n",
       "      <td>...</td>\n",
       "      <td>0.000000</td>\n",
       "      <td>0.000000</td>\n",
       "      <td>0.000000</td>\n",
       "      <td>0.0</td>\n",
       "      <td>0.0</td>\n",
       "      <td>0.0</td>\n",
       "      <td>0.0</td>\n",
       "      <td>0.0</td>\n",
       "      <td>0.0</td>\n",
       "      <td>0</td>\n",
       "    </tr>\n",
       "    <tr>\n",
       "      <th>...</th>\n",
       "      <td>...</td>\n",
       "      <td>...</td>\n",
       "      <td>...</td>\n",
       "      <td>...</td>\n",
       "      <td>...</td>\n",
       "      <td>...</td>\n",
       "      <td>...</td>\n",
       "      <td>...</td>\n",
       "      <td>...</td>\n",
       "      <td>...</td>\n",
       "      <td>...</td>\n",
       "      <td>...</td>\n",
       "      <td>...</td>\n",
       "      <td>...</td>\n",
       "      <td>...</td>\n",
       "      <td>...</td>\n",
       "      <td>...</td>\n",
       "      <td>...</td>\n",
       "      <td>...</td>\n",
       "      <td>...</td>\n",
       "      <td>...</td>\n",
       "    </tr>\n",
       "    <tr>\n",
       "      <th>6827</th>\n",
       "      <td>10395334</td>\n",
       "      <td>0.0</td>\n",
       "      <td>0.000000</td>\n",
       "      <td>0.0</td>\n",
       "      <td>0.0</td>\n",
       "      <td>0.0</td>\n",
       "      <td>0.0</td>\n",
       "      <td>0.0</td>\n",
       "      <td>0.0</td>\n",
       "      <td>0.000000</td>\n",
       "      <td>...</td>\n",
       "      <td>0.000000</td>\n",
       "      <td>0.000000</td>\n",
       "      <td>0.000000</td>\n",
       "      <td>0.0</td>\n",
       "      <td>0.0</td>\n",
       "      <td>0.0</td>\n",
       "      <td>0.0</td>\n",
       "      <td>0.0</td>\n",
       "      <td>0.0</td>\n",
       "      <td>0</td>\n",
       "    </tr>\n",
       "    <tr>\n",
       "      <th>6828</th>\n",
       "      <td>9792679</td>\n",
       "      <td>0.0</td>\n",
       "      <td>0.106578</td>\n",
       "      <td>0.0</td>\n",
       "      <td>0.0</td>\n",
       "      <td>0.0</td>\n",
       "      <td>0.0</td>\n",
       "      <td>0.0</td>\n",
       "      <td>0.0</td>\n",
       "      <td>0.000000</td>\n",
       "      <td>...</td>\n",
       "      <td>0.000000</td>\n",
       "      <td>0.000000</td>\n",
       "      <td>0.000000</td>\n",
       "      <td>0.0</td>\n",
       "      <td>0.0</td>\n",
       "      <td>0.0</td>\n",
       "      <td>0.0</td>\n",
       "      <td>0.0</td>\n",
       "      <td>0.0</td>\n",
       "      <td>0</td>\n",
       "    </tr>\n",
       "    <tr>\n",
       "      <th>6829</th>\n",
       "      <td>10799627</td>\n",
       "      <td>0.0</td>\n",
       "      <td>0.000000</td>\n",
       "      <td>0.0</td>\n",
       "      <td>0.0</td>\n",
       "      <td>0.0</td>\n",
       "      <td>0.0</td>\n",
       "      <td>0.0</td>\n",
       "      <td>0.0</td>\n",
       "      <td>0.000000</td>\n",
       "      <td>...</td>\n",
       "      <td>0.000000</td>\n",
       "      <td>0.000000</td>\n",
       "      <td>0.000000</td>\n",
       "      <td>0.0</td>\n",
       "      <td>0.0</td>\n",
       "      <td>0.0</td>\n",
       "      <td>0.0</td>\n",
       "      <td>0.0</td>\n",
       "      <td>0.0</td>\n",
       "      <td>0</td>\n",
       "    </tr>\n",
       "    <tr>\n",
       "      <th>6830</th>\n",
       "      <td>11076812</td>\n",
       "      <td>0.0</td>\n",
       "      <td>0.000000</td>\n",
       "      <td>0.0</td>\n",
       "      <td>0.0</td>\n",
       "      <td>0.0</td>\n",
       "      <td>0.0</td>\n",
       "      <td>0.0</td>\n",
       "      <td>0.0</td>\n",
       "      <td>0.000000</td>\n",
       "      <td>...</td>\n",
       "      <td>0.000000</td>\n",
       "      <td>0.000000</td>\n",
       "      <td>0.000000</td>\n",
       "      <td>0.0</td>\n",
       "      <td>0.0</td>\n",
       "      <td>0.0</td>\n",
       "      <td>0.0</td>\n",
       "      <td>0.0</td>\n",
       "      <td>0.0</td>\n",
       "      <td>0</td>\n",
       "    </tr>\n",
       "    <tr>\n",
       "      <th>6831</th>\n",
       "      <td>11039014</td>\n",
       "      <td>0.0</td>\n",
       "      <td>0.000000</td>\n",
       "      <td>0.0</td>\n",
       "      <td>0.0</td>\n",
       "      <td>0.0</td>\n",
       "      <td>0.0</td>\n",
       "      <td>0.0</td>\n",
       "      <td>0.0</td>\n",
       "      <td>0.076409</td>\n",
       "      <td>...</td>\n",
       "      <td>0.000000</td>\n",
       "      <td>0.000000</td>\n",
       "      <td>0.276413</td>\n",
       "      <td>0.0</td>\n",
       "      <td>0.0</td>\n",
       "      <td>0.0</td>\n",
       "      <td>0.0</td>\n",
       "      <td>0.0</td>\n",
       "      <td>0.0</td>\n",
       "      <td>0</td>\n",
       "    </tr>\n",
       "  </tbody>\n",
       "</table>\n",
       "<p>6832 rows × 310 columns</p>\n",
       "</div>"
      ],
      "text/plain": [
       "      patent_number  access  accordance  account  acquisition  action  \\\n",
       "0          10636516     0.0    0.000000      0.0          0.0     0.0   \n",
       "1           9305140     0.0    0.000000      0.0          0.0     0.0   \n",
       "2          10417446     0.0    0.000000      0.0          0.0     0.0   \n",
       "3          11170881     0.0    0.000000      0.0          0.0     0.0   \n",
       "4          10665334     0.0    0.000000      0.0          0.0     0.0   \n",
       "...             ...     ...         ...      ...          ...     ...   \n",
       "6827       10395334     0.0    0.000000      0.0          0.0     0.0   \n",
       "6828        9792679     0.0    0.106578      0.0          0.0     0.0   \n",
       "6829       10799627     0.0    0.000000      0.0          0.0     0.0   \n",
       "6830       11076812     0.0    0.000000      0.0          0.0     0.0   \n",
       "6831       11039014     0.0    0.000000      0.0          0.0     0.0   \n",
       "\n",
       "      activity  adherence  administration     agent  ...       use      user  \\\n",
       "0          0.0        0.0             0.0  0.000000  ...  0.000000  0.148168   \n",
       "1          0.0        0.0             0.0  0.000000  ...  0.000000  0.000000   \n",
       "2          0.0        0.0             0.0  0.000000  ...  0.339754  0.000000   \n",
       "3          0.0        0.0             0.0  0.000000  ...  0.000000  0.090718   \n",
       "4          0.0        0.0             0.0  0.000000  ...  0.000000  0.000000   \n",
       "...        ...        ...             ...       ...  ...       ...       ...   \n",
       "6827       0.0        0.0             0.0  0.000000  ...  0.000000  0.000000   \n",
       "6828       0.0        0.0             0.0  0.000000  ...  0.000000  0.000000   \n",
       "6829       0.0        0.0             0.0  0.000000  ...  0.000000  0.000000   \n",
       "6830       0.0        0.0             0.0  0.000000  ...  0.000000  0.000000   \n",
       "6831       0.0        0.0             0.0  0.076409  ...  0.000000  0.000000   \n",
       "\n",
       "         value  vector  vessel  video  view  volume  wireless  AAFC  \n",
       "0     0.000000     0.0     0.0    0.0   0.0     0.0       0.0     1  \n",
       "1     0.000000     0.0     0.0    0.0   0.0     0.0       0.0     5  \n",
       "2     0.000000     0.0     0.0    0.0   0.0     0.0       0.0    50  \n",
       "3     0.000000     0.0     0.0    0.0   0.0     0.0       0.0     0  \n",
       "4     0.000000     0.0     0.0    0.0   0.0     0.0       0.0     0  \n",
       "...        ...     ...     ...    ...   ...     ...       ...   ...  \n",
       "6827  0.000000     0.0     0.0    0.0   0.0     0.0       0.0     0  \n",
       "6828  0.000000     0.0     0.0    0.0   0.0     0.0       0.0     0  \n",
       "6829  0.000000     0.0     0.0    0.0   0.0     0.0       0.0     0  \n",
       "6830  0.000000     0.0     0.0    0.0   0.0     0.0       0.0     0  \n",
       "6831  0.276413     0.0     0.0    0.0   0.0     0.0       0.0     0  \n",
       "\n",
       "[6832 rows x 310 columns]"
      ]
     },
     "execution_count": 8,
     "metadata": {},
     "output_type": "execute_result"
    }
   ],
   "source": [
    "tfidf"
   ]
  },
  {
   "cell_type": "code",
   "execution_count": 9,
   "metadata": {},
   "outputs": [],
   "source": [
    "patent_num = tfidf['patent_number']\n",
    "aafc = tfidf['AAFC']\n",
    "\n",
    "tfidf = tfidf.drop(['patent_number', 'AAFC'], axis=1)"
   ]
  },
  {
   "cell_type": "code",
   "execution_count": 19,
   "metadata": {},
   "outputs": [],
   "source": [
    "# 텍스트 벡터화\n",
    "tfidf_vector = tfidf.to_numpy()"
   ]
  },
  {
   "cell_type": "markdown",
   "metadata": {},
   "source": [
    "### FC 분포"
   ]
  },
  {
   "cell_type": "code",
   "execution_count": 10,
   "metadata": {},
   "outputs": [],
   "source": [
    "%matplotlib inline "
   ]
  },
  {
   "cell_type": "code",
   "execution_count": 11,
   "metadata": {},
   "outputs": [],
   "source": [
    "aafc_list = aafc.tolist()"
   ]
  },
  {
   "cell_type": "code",
   "execution_count": 12,
   "metadata": {},
   "outputs": [
    {
     "data": {
      "text/plain": [
       "6832"
      ]
     },
     "execution_count": 12,
     "metadata": {},
     "output_type": "execute_result"
    }
   ],
   "source": [
    "len(aafc_list)"
   ]
  },
  {
   "cell_type": "code",
   "execution_count": 13,
   "metadata": {},
   "outputs": [
    {
     "data": {
      "text/plain": [
       "4595"
      ]
     },
     "execution_count": 13,
     "metadata": {},
     "output_type": "execute_result"
    }
   ],
   "source": [
    "aafc_list.count(0)"
   ]
  },
  {
   "cell_type": "code",
   "execution_count": 17,
   "metadata": {},
   "outputs": [
    {
     "data": {
      "text/plain": [
       "count    6832.000000\n",
       "mean        2.194672\n",
       "std        10.407135\n",
       "min         0.000000\n",
       "25%         0.000000\n",
       "50%         0.000000\n",
       "75%         1.000000\n",
       "max       303.000000\n",
       "Name: AAFC, dtype: float64"
      ]
     },
     "execution_count": 17,
     "metadata": {},
     "output_type": "execute_result"
    }
   ],
   "source": [
    "aafc.describe()"
   ]
  },
  {
   "cell_type": "code",
   "execution_count": 15,
   "metadata": {},
   "outputs": [
    {
     "data": {
      "text/plain": [
       "(array([6.746e+03, 5.900e+01, 1.300e+01, 3.000e+00, 3.000e+00, 2.000e+00,\n",
       "        2.000e+00, 1.000e+00, 2.000e+00, 1.000e+00]),\n",
       " array([  0. ,  30.3,  60.6,  90.9, 121.2, 151.5, 181.8, 212.1, 242.4,\n",
       "        272.7, 303. ]),\n",
       " <BarContainer object of 10 artists>)"
      ]
     },
     "execution_count": 15,
     "metadata": {},
     "output_type": "execute_result"
    },
    {
     "data": {
      "image/png": "[encoded data removed]",
      "text/plain": [
       "<Figure size 432x288 with 1 Axes>"
      ]
     },
     "metadata": {
      "needs_background": "light"
     },
     "output_type": "display_data"
    }
   ],
   "source": [
    "plt.hist(aafc)"
   ]
  },
  {
   "cell_type": "code",
   "execution_count": 16,
   "metadata": {},
   "outputs": [
    {
     "data": {
      "text/plain": [
       "<AxesSubplot:xlabel='AAFC', ylabel='Count'>"
      ]
     },
     "execution_count": 16,
     "metadata": {},
     "output_type": "execute_result"
    },
    {
     "data": {
      "image/png": "[encoded data removed]",
      "text/plain": [
       "<Figure size 432x288 with 1 Axes>"
      ]
     },
     "metadata": {
      "needs_background": "light"
     },
     "output_type": "display_data"
    }
   ],
   "source": [
    "sns.histplot(aafc, bins=165)"
   ]
  },
  {
   "cell_type": "markdown",
   "metadata": {},
   "source": [
    "### TFIDF"
   ]
  },
  {
   "cell_type": "code",
   "execution_count": 20,
   "metadata": {},
   "outputs": [
    {
     "data": {
      "text/plain": [
       "(6832, 308)"
      ]
     },
     "execution_count": 20,
     "metadata": {},
     "output_type": "execute_result"
    }
   ],
   "source": [
    "tfidf_vector.shape"
   ]
  },
  {
   "cell_type": "code",
   "execution_count": null,
   "metadata": {},
   "outputs": [],
   "source": [
    "svd_t = TruncatedSVD(n_components=154, random_state=42)\n",
    "svd_t.fit(tfidf_vector)"
   ]
  },
  {
   "cell_type": "code",
   "execution_count": 126,
   "metadata": {},
   "outputs": [],
   "source": [
    "tfidf_transform = svd_t.transform(tfidf_vector)"
   ]
  },
  {
   "cell_type": "code",
   "execution_count": 127,
   "metadata": {},
   "outputs": [
    {
     "data": {
      "text/plain": [
       "0.7025603165680104"
      ]
     },
     "execution_count": 127,
     "metadata": {},
     "output_type": "execute_result"
    }
   ],
   "source": [
    "svd_t.explained_variance_ratio_.sum()"
   ]
  },
  {
   "cell_type": "code",
   "execution_count": 128,
   "metadata": {},
   "outputs": [
    {
     "data": {
      "text/plain": [
       "(1562, 133)"
      ]
     },
     "execution_count": 128,
     "metadata": {},
     "output_type": "execute_result"
    }
   ],
   "source": [
    "tfidf_transform.shape"
   ]
  },
  {
   "cell_type": "code",
   "execution_count": null,
   "metadata": {},
   "outputs": [],
   "source": []
  },
  {
   "cell_type": "markdown",
   "metadata": {},
   "source": [
    "## GTM"
   ]
  },
  {
   "cell_type": "code",
   "execution_count": 129,
   "metadata": {},
   "outputs": [],
   "source": [
    "from ugtm import eGTM, ugtm_plot, ugtm_preprocess\n",
    "import altair as alt\n",
    "\n",
    "import matplotlib.pyplot as plt"
   ]
  },
  {
   "cell_type": "code",
   "execution_count": 130,
   "metadata": {},
   "outputs": [
    {
     "data": {
      "text/plain": [
       "DataTransformerRegistry.enable('default')"
      ]
     },
     "execution_count": 130,
     "metadata": {},
     "output_type": "execute_result"
    }
   ],
   "source": [
    "alt.data_transformers.disable_max_rows()"
   ]
  },
  {
   "cell_type": "code",
   "execution_count": null,
   "metadata": {},
   "outputs": [],
   "source": []
  },
  {
   "cell_type": "code",
   "execution_count": 155,
   "metadata": {
    "scrolled": true
   },
   "outputs": [
    {
     "name": "stdout",
     "output_type": "stream",
     "text": [
      "Used 2 components explaining 2.06461113388078% of the variance\n",
      "\n"
     ]
    }
   ],
   "source": [
    "pr_vect_tfidf = ugtm_preprocess.pcaPreprocess(tfidf_transform, doPCA=True, n_components=2)"
   ]
  },
  {
   "cell_type": "code",
   "execution_count": 156,
   "metadata": {},
   "outputs": [],
   "source": [
    "# GTM Mapping\n",
    "gtm_tfidf = eGTM(model='modes').fit(tfidf_transform)\n",
    "transformed_tfidf = gtm_tfidf.transform(tfidf_transform)"
   ]
  },
  {
   "cell_type": "code",
   "execution_count": 157,
   "metadata": {},
   "outputs": [],
   "source": [
    "df_tfidf = pd.DataFrame(transformed_tfidf, columns=[\"x1\", \"x2\"])"
   ]
  },
  {
   "cell_type": "code",
   "execution_count": 158,
   "metadata": {
    "scrolled": false
   },
   "outputs": [
    {
     "data": {
      "text/html": [
       "\n",
       "<div id=\"altair-viz-b710760f088948178d58dbbad459be54\"></div>\n",
       "<script type=\"text/javascript\">\n",
       "  var VEGA_DEBUG = (typeof VEGA_DEBUG == \"undefined\") ? {} : VEGA_DEBUG;\n",
       "  (function(spec, embedOpt){\n",
       "    let outputDiv = document.currentScript.previousElementSibling;\n",
       "    if (outputDiv.id !== \"altair-viz-b710760f088948178d58dbbad459be54\") {\n",
       "      outputDiv = document.getElementById(\"altair-viz-b710760f088948178d58dbbad459be54\");\n",
       "    }\n",
       "    const paths = {\n",
       "      \"vega\": \"https://cdn.jsdelivr.net/npm//vega@5?noext\",\n",
       "      \"vega-lib\": \"https://cdn.jsdelivr.net/npm//vega-lib?noext\",\n",
       "      \"vega-lite\": \"https://cdn.jsdelivr.net/npm//vega-lite@4.17.0?noext\",\n",
       "      \"vega-embed\": \"https://cdn.jsdelivr.net/npm//vega-embed@6?noext\",\n",
       "    };\n",
       "\n",
       "    function maybeLoadScript(lib, version) {\n",
       "      var key = `${lib.replace(\"-\", \"\")}_version`;\n",
       "      return (VEGA_DEBUG[key] == version) ?\n",
       "        Promise.resolve(paths[lib]) :\n",
       "        new Promise(function(resolve, reject) {\n",
       "          var s = document.createElement('script');\n",
       "          document.getElementsByTagName(\"head\")[0].appendChild(s);\n",
       "          s.async = true;\n",
       "          s.onload = () => {\n",
       "            VEGA_DEBUG[key] = version;\n",
       "            return resolve(paths[lib]);\n",
       "          };\n",
       "          s.onerror = () => reject(`Error loading script: ${paths[lib]}`);\n",
       "          s.src = paths[lib];\n",
       "        });\n",
       "    }\n",
       "\n",
       "    function showError(err) {\n",
       "      outputDiv.innerHTML = `<div class=\"error\" style=\"color:red;\">${err}</div>`;\n",
       "      throw err;\n",
       "    }\n",
       "\n",
       "    function displayChart(vegaEmbed) {\n",
       "      vegaEmbed(outputDiv, spec, embedOpt)\n",
       "        .catch(err => showError(`Javascript Error: ${err.message}<br>This usually means there's a typo in your chart specification. See the javascript console for the full traceback.`));\n",
       "    }\n",
       "\n",
       "    if(typeof define === \"function\" && define.amd) {\n",
       "      requirejs.config({paths});\n",
       "      require([\"vega-embed\"], displayChart, err => showError(`Error loading script: ${err.message}`));\n",
       "    } else {\n",
       "      maybeLoadScript(\"vega\", \"5\")\n",
       "        .then(() => maybeLoadScript(\"vega-lite\", \"4.17.0\"))\n",
       "        .then(() => maybeLoadScript(\"vega-embed\", \"6\"))\n",
       "        .catch(showError)\n",
       "        .then(() => displayChart(vegaEmbed));\n",
       "    }\n",
       "  })({\"config\": {\"view\": {\"continuousWidth\": 400, \"continuousHeight\": 300}}, \"data\": {\"name\": \"data-fd233de6a6cf337cfb157c2391cdc92e\"}, \"mark\": \"point\", \"encoding\": {\"tooltip\": [{\"field\": \"x1\", \"type\": \"quantitative\"}, {\"field\": \"x2\", \"type\": \"quantitative\"}], \"x\": {\"field\": \"x1\", \"type\": \"quantitative\"}, \"y\": {\"field\": \"x2\", \"type\": \"quantitative\"}}, \"selection\": {\"selector007\": {\"type\": \"interval\", \"bind\": \"scales\", \"encodings\": [\"x\", \"y\"]}}, \"title\": \"GTM tfidf\", \"$schema\": \"https://vega.github.io/schema/vega-lite/v4.17.0.json\", \"datasets\": {\"data-fd233de6a6cf337cfb157c2391cdc92e\": [{\"x1\": -1.0, \"x2\": -0.19999999999999996}, {\"x1\": -0.7333333333333334, \"x2\": 1.0}, {\"x1\": -0.8666666666666667, \"x2\": 1.0}, {\"x1\": -0.8666666666666667, \"x2\": 1.0}, {\"x1\": 0.7333333333333334, \"x2\": 0.8666666666666667}, {\"x1\": -0.19999999999999996, \"x2\": 0.33333333333333326}, {\"x1\": 0.46666666666666656, \"x2\": -0.33333333333333337}, {\"x1\": -0.6, \"x2\": -0.7333333333333334}, {\"x1\": -0.06666666666666665, \"x2\": 0.6000000000000001}, {\"x1\": -0.06666666666666665, \"x2\": 0.46666666666666656}, {\"x1\": 0.19999999999999996, \"x2\": 0.33333333333333326}, {\"x1\": 0.19999999999999996, \"x2\": -0.06666666666666665}, {\"x1\": -0.19999999999999996, \"x2\": 0.19999999999999996}, {\"x1\": 0.8666666666666667, \"x2\": 0.8666666666666667}, {\"x1\": -0.4666666666666667, \"x2\": 0.8666666666666667}, {\"x1\": 0.19999999999999996, \"x2\": 0.33333333333333326}, {\"x1\": 0.46666666666666656, \"x2\": 0.46666666666666656}, {\"x1\": -1.0, \"x2\": -0.33333333333333337}, {\"x1\": 0.7333333333333334, \"x2\": 0.46666666666666656}, {\"x1\": -0.19999999999999996, \"x2\": 0.7333333333333334}, {\"x1\": 0.7333333333333334, \"x2\": 0.33333333333333326}, {\"x1\": 0.6000000000000001, \"x2\": 0.6000000000000001}, {\"x1\": 0.7333333333333334, \"x2\": 0.7333333333333334}, {\"x1\": 0.06666666666666665, \"x2\": 0.46666666666666656}, {\"x1\": -0.7333333333333334, \"x2\": 0.33333333333333326}, {\"x1\": 0.7333333333333334, \"x2\": 0.7333333333333334}, {\"x1\": 0.19999999999999996, \"x2\": 0.33333333333333326}, {\"x1\": 0.19999999999999996, \"x2\": 0.33333333333333326}, {\"x1\": -0.06666666666666665, \"x2\": 0.19999999999999996}, {\"x1\": -1.0, \"x2\": -1.0}, {\"x1\": 0.33333333333333326, \"x2\": 0.6000000000000001}, {\"x1\": 0.8666666666666667, \"x2\": -0.19999999999999996}, {\"x1\": 0.7333333333333334, \"x2\": 0.7333333333333334}, {\"x1\": 0.6000000000000001, \"x2\": 0.6000000000000001}, {\"x1\": -0.06666666666666665, \"x2\": -0.06666666666666665}, {\"x1\": -0.19999999999999996, \"x2\": 0.6000000000000001}, {\"x1\": -0.7333333333333334, \"x2\": 0.46666666666666656}, {\"x1\": -0.33333333333333337, \"x2\": 0.33333333333333326}, {\"x1\": -0.06666666666666665, \"x2\": 0.06666666666666665}, {\"x1\": -0.19999999999999996, \"x2\": -0.33333333333333337}, {\"x1\": 0.33333333333333326, \"x2\": -0.7333333333333334}, {\"x1\": -0.7333333333333334, \"x2\": 0.33333333333333326}, {\"x1\": -0.4666666666666667, \"x2\": 0.33333333333333326}, {\"x1\": 0.8666666666666667, \"x2\": -1.0}, {\"x1\": -0.33333333333333337, \"x2\": 0.06666666666666665}, {\"x1\": -0.33333333333333337, \"x2\": 0.33333333333333326}, {\"x1\": -0.6, \"x2\": 0.19999999999999996}, {\"x1\": 0.8666666666666667, \"x2\": 0.6000000000000001}, {\"x1\": -0.33333333333333337, \"x2\": -0.19999999999999996}, {\"x1\": -0.33333333333333337, \"x2\": -0.19999999999999996}, {\"x1\": 1.0, \"x2\": -0.4666666666666667}, {\"x1\": -0.19999999999999996, \"x2\": 0.46666666666666656}, {\"x1\": 0.33333333333333326, \"x2\": 0.33333333333333326}, {\"x1\": 0.8666666666666667, \"x2\": -1.0}, {\"x1\": -0.8666666666666667, \"x2\": -0.8666666666666667}, {\"x1\": 0.6000000000000001, \"x2\": 0.33333333333333326}, {\"x1\": 0.6000000000000001, \"x2\": 0.19999999999999996}, {\"x1\": 0.33333333333333326, \"x2\": 0.06666666666666665}, {\"x1\": 0.33333333333333326, \"x2\": 0.46666666666666656}, {\"x1\": 0.33333333333333326, \"x2\": 1.0}, {\"x1\": 0.8666666666666667, \"x2\": 0.8666666666666667}, {\"x1\": 0.6000000000000001, \"x2\": -0.7333333333333334}, {\"x1\": -0.4666666666666667, \"x2\": -0.06666666666666665}, {\"x1\": -0.06666666666666665, \"x2\": 0.6000000000000001}, {\"x1\": 0.33333333333333326, \"x2\": 0.46666666666666656}, {\"x1\": 0.19999999999999996, \"x2\": 0.33333333333333326}, {\"x1\": -0.06666666666666665, \"x2\": -1.0}, {\"x1\": -0.7333333333333334, \"x2\": -0.19999999999999996}, {\"x1\": -0.6, \"x2\": -0.7333333333333334}, {\"x1\": -0.7333333333333334, \"x2\": 0.33333333333333326}, {\"x1\": -0.19999999999999996, \"x2\": 0.33333333333333326}, {\"x1\": -0.8666666666666667, \"x2\": -0.8666666666666667}, {\"x1\": 0.33333333333333326, \"x2\": -0.19999999999999996}, {\"x1\": -0.7333333333333334, \"x2\": -0.6}, {\"x1\": 0.46666666666666656, \"x2\": -0.8666666666666667}, {\"x1\": -0.19999999999999996, \"x2\": -0.6}, {\"x1\": 0.33333333333333326, \"x2\": 0.33333333333333326}, {\"x1\": 0.6000000000000001, \"x2\": -0.7333333333333334}, {\"x1\": 0.7333333333333334, \"x2\": -0.6}, {\"x1\": -0.19999999999999996, \"x2\": 0.19999999999999996}, {\"x1\": 0.19999999999999996, \"x2\": 0.46666666666666656}, {\"x1\": -0.19999999999999996, \"x2\": 0.6000000000000001}, {\"x1\": -0.33333333333333337, \"x2\": -0.19999999999999996}, {\"x1\": 0.8666666666666667, \"x2\": -0.19999999999999996}, {\"x1\": 0.6000000000000001, \"x2\": 0.33333333333333326}, {\"x1\": 0.19999999999999996, \"x2\": -0.06666666666666665}, {\"x1\": 0.33333333333333326, \"x2\": 0.33333333333333326}, {\"x1\": -0.4666666666666667, \"x2\": -0.4666666666666667}, {\"x1\": 0.33333333333333326, \"x2\": -0.19999999999999996}, {\"x1\": -0.19999999999999996, \"x2\": 0.33333333333333326}, {\"x1\": -0.06666666666666665, \"x2\": -1.0}, {\"x1\": -0.4666666666666667, \"x2\": -1.0}, {\"x1\": 0.19999999999999996, \"x2\": -0.19999999999999996}, {\"x1\": 0.33333333333333326, \"x2\": -0.4666666666666667}, {\"x1\": -0.7333333333333334, \"x2\": 0.33333333333333326}, {\"x1\": -0.33333333333333337, \"x2\": -0.33333333333333337}, {\"x1\": 0.6000000000000001, \"x2\": 0.33333333333333326}, {\"x1\": -1.0, \"x2\": 1.0}, {\"x1\": -0.33333333333333337, \"x2\": -0.19999999999999996}, {\"x1\": -0.19999999999999996, \"x2\": -0.06666666666666665}, {\"x1\": -0.19999999999999996, \"x2\": 0.33333333333333326}, {\"x1\": -0.33333333333333337, \"x2\": -0.6}, {\"x1\": 0.7333333333333334, \"x2\": -1.0}, {\"x1\": 0.6000000000000001, \"x2\": 0.8666666666666667}, {\"x1\": 0.06666666666666665, \"x2\": 0.46666666666666656}, {\"x1\": -0.19999999999999996, \"x2\": 0.6000000000000001}, {\"x1\": 0.19999999999999996, \"x2\": 0.19999999999999996}, {\"x1\": 0.46666666666666656, \"x2\": -0.7333333333333334}, {\"x1\": -0.06666666666666665, \"x2\": 0.33333333333333326}, {\"x1\": 0.33333333333333326, \"x2\": 0.6000000000000001}, {\"x1\": 0.06666666666666665, \"x2\": 0.33333333333333326}, {\"x1\": -0.33333333333333337, \"x2\": -0.19999999999999996}, {\"x1\": -0.19999999999999996, \"x2\": 0.06666666666666665}, {\"x1\": 1.0, \"x2\": -0.8666666666666667}, {\"x1\": 0.06666666666666665, \"x2\": 0.46666666666666656}, {\"x1\": -0.33333333333333337, \"x2\": -0.19999999999999996}, {\"x1\": 0.19999999999999996, \"x2\": 0.33333333333333326}, {\"x1\": 0.33333333333333326, \"x2\": -0.6}, {\"x1\": -0.33333333333333337, \"x2\": -1.0}, {\"x1\": -0.7333333333333334, \"x2\": -1.0}, {\"x1\": -1.0, \"x2\": -1.0}, {\"x1\": 0.46666666666666656, \"x2\": 0.33333333333333326}, {\"x1\": -0.06666666666666665, \"x2\": 0.19999999999999996}, {\"x1\": 0.7333333333333334, \"x2\": 0.7333333333333334}, {\"x1\": -0.33333333333333337, \"x2\": -1.0}, {\"x1\": 0.46666666666666656, \"x2\": 0.46666666666666656}, {\"x1\": -0.33333333333333337, \"x2\": -0.19999999999999996}, {\"x1\": 0.8666666666666667, \"x2\": 0.33333333333333326}, {\"x1\": 0.8666666666666667, \"x2\": -1.0}, {\"x1\": -0.8666666666666667, \"x2\": 1.0}, {\"x1\": 0.19999999999999996, \"x2\": 1.0}, {\"x1\": -0.33333333333333337, \"x2\": -0.19999999999999996}, {\"x1\": -0.7333333333333334, \"x2\": -0.7333333333333334}, {\"x1\": 0.33333333333333326, \"x2\": 0.46666666666666656}, {\"x1\": -0.7333333333333334, \"x2\": 0.33333333333333326}, {\"x1\": 0.8666666666666667, \"x2\": 0.6000000000000001}, {\"x1\": 0.6000000000000001, \"x2\": 0.46666666666666656}, {\"x1\": 0.8666666666666667, \"x2\": 0.33333333333333326}, {\"x1\": -0.7333333333333334, \"x2\": -0.7333333333333334}, {\"x1\": -0.06666666666666665, \"x2\": 0.06666666666666665}, {\"x1\": 0.8666666666666667, \"x2\": 0.7333333333333334}, {\"x1\": 0.46666666666666656, \"x2\": 0.33333333333333326}, {\"x1\": 1.0, \"x2\": -0.4666666666666667}, {\"x1\": -0.19999999999999996, \"x2\": -0.6}, {\"x1\": 0.19999999999999996, \"x2\": 0.33333333333333326}, {\"x1\": 0.33333333333333326, \"x2\": -0.19999999999999996}, {\"x1\": 0.06666666666666665, \"x2\": 0.19999999999999996}, {\"x1\": 0.46666666666666656, \"x2\": 0.33333333333333326}, {\"x1\": 0.46666666666666656, \"x2\": -0.06666666666666665}, {\"x1\": 0.7333333333333334, \"x2\": 0.8666666666666667}, {\"x1\": -0.33333333333333337, \"x2\": 0.33333333333333326}, {\"x1\": 0.7333333333333334, \"x2\": 0.7333333333333334}, {\"x1\": -0.8666666666666667, \"x2\": 0.46666666666666656}, {\"x1\": -0.33333333333333337, \"x2\": 0.6000000000000001}, {\"x1\": -0.6, \"x2\": 0.6000000000000001}, {\"x1\": -0.33333333333333337, \"x2\": 0.46666666666666656}, {\"x1\": 1.0, \"x2\": -1.0}, {\"x1\": 0.6000000000000001, \"x2\": 0.6000000000000001}, {\"x1\": 0.6000000000000001, \"x2\": 1.0}, {\"x1\": 0.46666666666666656, \"x2\": 0.19999999999999996}, {\"x1\": -0.06666666666666665, \"x2\": 0.6000000000000001}, {\"x1\": -1.0, \"x2\": -0.33333333333333337}, {\"x1\": 0.19999999999999996, \"x2\": 0.19999999999999996}, {\"x1\": 0.06666666666666665, \"x2\": 0.46666666666666656}, {\"x1\": -1.0, \"x2\": -1.0}, {\"x1\": -0.7333333333333334, \"x2\": -0.7333333333333334}, {\"x1\": 0.33333333333333326, \"x2\": 0.7333333333333334}, {\"x1\": 0.7333333333333334, \"x2\": 0.7333333333333334}, {\"x1\": -0.06666666666666665, \"x2\": 0.19999999999999996}, {\"x1\": 0.19999999999999996, \"x2\": 0.19999999999999996}, {\"x1\": -0.8666666666666667, \"x2\": 1.0}, {\"x1\": 0.33333333333333326, \"x2\": 0.46666666666666656}, {\"x1\": -0.4666666666666667, \"x2\": 0.6000000000000001}, {\"x1\": -0.06666666666666665, \"x2\": 0.19999999999999996}, {\"x1\": -1.0, \"x2\": -0.4666666666666667}, {\"x1\": -1.0, \"x2\": 0.6000000000000001}, {\"x1\": -0.19999999999999996, \"x2\": 0.33333333333333326}, {\"x1\": -0.8666666666666667, \"x2\": -1.0}, {\"x1\": -0.19999999999999996, \"x2\": 0.06666666666666665}, {\"x1\": -0.19999999999999996, \"x2\": 0.06666666666666665}, {\"x1\": -0.7333333333333334, \"x2\": 0.33333333333333326}, {\"x1\": 0.19999999999999996, \"x2\": 0.19999999999999996}, {\"x1\": 0.8666666666666667, \"x2\": -0.33333333333333337}, {\"x1\": -0.33333333333333337, \"x2\": 0.6000000000000001}, {\"x1\": 0.7333333333333334, \"x2\": -0.19999999999999996}, {\"x1\": 0.6000000000000001, \"x2\": 0.6000000000000001}, {\"x1\": -0.06666666666666665, \"x2\": 0.06666666666666665}, {\"x1\": -0.4666666666666667, \"x2\": 0.8666666666666667}, {\"x1\": -0.06666666666666665, \"x2\": 0.6000000000000001}, {\"x1\": -0.8666666666666667, \"x2\": -1.0}, {\"x1\": 0.7333333333333334, \"x2\": 0.8666666666666667}, {\"x1\": -1.0, \"x2\": -1.0}, {\"x1\": -0.6, \"x2\": 0.19999999999999996}, {\"x1\": -0.4666666666666667, \"x2\": 0.33333333333333326}, {\"x1\": -1.0, \"x2\": -1.0}, {\"x1\": 0.19999999999999996, \"x2\": -0.8666666666666667}, {\"x1\": 0.7333333333333334, \"x2\": 0.33333333333333326}, {\"x1\": 0.06666666666666665, \"x2\": 0.6000000000000001}, {\"x1\": 0.6000000000000001, \"x2\": 0.46666666666666656}, {\"x1\": -0.33333333333333337, \"x2\": -0.06666666666666665}, {\"x1\": 0.33333333333333326, \"x2\": 0.33333333333333326}, {\"x1\": -0.33333333333333337, \"x2\": 0.06666666666666665}, {\"x1\": 0.8666666666666667, \"x2\": -1.0}, {\"x1\": 0.46666666666666656, \"x2\": 0.46666666666666656}, {\"x1\": 1.0, \"x2\": 0.33333333333333326}, {\"x1\": 0.8666666666666667, \"x2\": 0.7333333333333334}, {\"x1\": 0.33333333333333326, \"x2\": -0.33333333333333337}, {\"x1\": -0.8666666666666667, \"x2\": 0.46666666666666656}, {\"x1\": 0.46666666666666656, \"x2\": 0.33333333333333326}, {\"x1\": -0.33333333333333337, \"x2\": 0.33333333333333326}, {\"x1\": -0.06666666666666665, \"x2\": 0.19999999999999996}, {\"x1\": 0.7333333333333334, \"x2\": 0.6000000000000001}, {\"x1\": -0.33333333333333337, \"x2\": -0.19999999999999996}, {\"x1\": 0.33333333333333326, \"x2\": -0.19999999999999996}, {\"x1\": 0.33333333333333326, \"x2\": -0.19999999999999996}, {\"x1\": 0.33333333333333326, \"x2\": -0.19999999999999996}, {\"x1\": 0.6000000000000001, \"x2\": 0.46666666666666656}, {\"x1\": 0.8666666666666667, \"x2\": 0.33333333333333326}, {\"x1\": 0.8666666666666667, \"x2\": -0.19999999999999996}, {\"x1\": 0.6000000000000001, \"x2\": 0.6000000000000001}, {\"x1\": -0.8666666666666667, \"x2\": 0.8666666666666667}, {\"x1\": -0.33333333333333337, \"x2\": 0.8666666666666667}, {\"x1\": 0.8666666666666667, \"x2\": 0.7333333333333334}, {\"x1\": 0.33333333333333326, \"x2\": 0.46666666666666656}, {\"x1\": -0.4666666666666667, \"x2\": 0.7333333333333334}, {\"x1\": 0.7333333333333334, \"x2\": 0.33333333333333326}, {\"x1\": -0.33333333333333337, \"x2\": -0.4666666666666667}, {\"x1\": 0.33333333333333326, \"x2\": -0.8666666666666667}, {\"x1\": 0.7333333333333334, \"x2\": -0.06666666666666665}, {\"x1\": 0.33333333333333326, \"x2\": 0.33333333333333326}, {\"x1\": 0.8666666666666667, \"x2\": 0.33333333333333326}, {\"x1\": -0.33333333333333337, \"x2\": -0.06666666666666665}, {\"x1\": -0.19999999999999996, \"x2\": -0.7333333333333334}, {\"x1\": -0.19999999999999996, \"x2\": 0.7333333333333334}, {\"x1\": -0.33333333333333337, \"x2\": 0.33333333333333326}, {\"x1\": -0.33333333333333337, \"x2\": 0.33333333333333326}, {\"x1\": -0.7333333333333334, \"x2\": 0.46666666666666656}, {\"x1\": 0.7333333333333334, \"x2\": 0.7333333333333334}, {\"x1\": 0.33333333333333326, \"x2\": 0.46666666666666656}, {\"x1\": 0.6000000000000001, \"x2\": 0.19999999999999996}, {\"x1\": 0.7333333333333334, \"x2\": 0.8666666666666667}, {\"x1\": -0.4666666666666667, \"x2\": 0.7333333333333334}, {\"x1\": 0.46666666666666656, \"x2\": 0.33333333333333326}, {\"x1\": -0.33333333333333337, \"x2\": -0.33333333333333337}, {\"x1\": 0.7333333333333334, \"x2\": 0.33333333333333326}, {\"x1\": 0.7333333333333334, \"x2\": 0.8666666666666667}, {\"x1\": 0.6000000000000001, \"x2\": 0.7333333333333334}, {\"x1\": -0.33333333333333337, \"x2\": -0.19999999999999996}, {\"x1\": 0.8666666666666667, \"x2\": -1.0}, {\"x1\": -0.33333333333333337, \"x2\": 0.33333333333333326}, {\"x1\": -0.33333333333333337, \"x2\": 0.33333333333333326}, {\"x1\": 0.7333333333333334, \"x2\": 0.7333333333333334}, {\"x1\": -0.06666666666666665, \"x2\": 0.06666666666666665}, {\"x1\": -0.7333333333333334, \"x2\": -0.7333333333333334}, {\"x1\": -1.0, \"x2\": 0.46666666666666656}, {\"x1\": -0.33333333333333337, \"x2\": -0.06666666666666665}, {\"x1\": 1.0, \"x2\": -0.8666666666666667}, {\"x1\": -0.33333333333333337, \"x2\": -0.4666666666666667}, {\"x1\": 0.46666666666666656, \"x2\": -0.8666666666666667}, {\"x1\": -0.06666666666666665, \"x2\": -0.6}, {\"x1\": -0.33333333333333337, \"x2\": 0.7333333333333334}, {\"x1\": -1.0, \"x2\": -1.0}, {\"x1\": -0.33333333333333337, \"x2\": -0.19999999999999996}, {\"x1\": 0.8666666666666667, \"x2\": 0.7333333333333334}, {\"x1\": 0.46666666666666656, \"x2\": -0.7333333333333334}, {\"x1\": -1.0, \"x2\": -1.0}, {\"x1\": -1.0, \"x2\": -0.8666666666666667}, {\"x1\": 1.0, \"x2\": 0.19999999999999996}, {\"x1\": 0.7333333333333334, \"x2\": 0.7333333333333334}, {\"x1\": 0.7333333333333334, \"x2\": 0.8666666666666667}, {\"x1\": 0.6000000000000001, \"x2\": 0.6000000000000001}, {\"x1\": -0.06666666666666665, \"x2\": -0.6}, {\"x1\": 0.7333333333333334, \"x2\": 0.8666666666666667}, {\"x1\": 0.7333333333333334, \"x2\": 0.8666666666666667}, {\"x1\": 0.7333333333333334, \"x2\": 0.8666666666666667}, {\"x1\": -0.33333333333333337, \"x2\": 0.33333333333333326}, {\"x1\": -0.8666666666666667, \"x2\": 0.6000000000000001}, {\"x1\": -0.7333333333333334, \"x2\": 0.33333333333333326}, {\"x1\": -0.06666666666666665, \"x2\": 0.33333333333333326}, {\"x1\": 0.46666666666666656, \"x2\": 0.46666666666666656}, {\"x1\": 0.06666666666666665, \"x2\": 0.46666666666666656}, {\"x1\": 0.7333333333333334, \"x2\": 0.8666666666666667}, {\"x1\": 0.7333333333333334, \"x2\": 0.7333333333333334}, {\"x1\": -1.0, \"x2\": 0.8666666666666667}, {\"x1\": 0.46666666666666656, \"x2\": 0.19999999999999996}, {\"x1\": 0.19999999999999996, \"x2\": 0.46666666666666656}, {\"x1\": -0.06666666666666665, \"x2\": -1.0}, {\"x1\": 0.33333333333333326, \"x2\": 0.33333333333333326}, {\"x1\": 0.33333333333333326, \"x2\": 0.33333333333333326}, {\"x1\": -0.19999999999999996, \"x2\": -0.06666666666666665}, {\"x1\": 0.46666666666666656, \"x2\": 0.33333333333333326}, {\"x1\": -0.33333333333333337, \"x2\": -1.0}, {\"x1\": -0.6, \"x2\": -0.8666666666666667}, {\"x1\": -0.19999999999999996, \"x2\": -0.19999999999999996}, {\"x1\": -0.33333333333333337, \"x2\": -0.06666666666666665}, {\"x1\": 0.8666666666666667, \"x2\": 0.19999999999999996}, {\"x1\": -0.6, \"x2\": 0.46666666666666656}, {\"x1\": -0.19999999999999996, \"x2\": -0.06666666666666665}, {\"x1\": 0.7333333333333334, \"x2\": 0.7333333333333334}, {\"x1\": 0.7333333333333334, \"x2\": 0.7333333333333334}, {\"x1\": 0.6000000000000001, \"x2\": 0.33333333333333326}, {\"x1\": -0.33333333333333337, \"x2\": 0.6000000000000001}, {\"x1\": 0.46666666666666656, \"x2\": -0.7333333333333334}, {\"x1\": -0.8666666666666667, \"x2\": -0.8666666666666667}, {\"x1\": 0.33333333333333326, \"x2\": 0.33333333333333326}, {\"x1\": 0.46666666666666656, \"x2\": 0.33333333333333326}, {\"x1\": 0.6000000000000001, \"x2\": 0.6000000000000001}, {\"x1\": -0.7333333333333334, \"x2\": 0.46666666666666656}, {\"x1\": 0.8666666666666667, \"x2\": 0.33333333333333326}, {\"x1\": -0.4666666666666667, \"x2\": 0.8666666666666667}, {\"x1\": 0.7333333333333334, \"x2\": -0.06666666666666665}, {\"x1\": 0.7333333333333334, \"x2\": 0.19999999999999996}, {\"x1\": -0.4666666666666667, \"x2\": 0.7333333333333334}, {\"x1\": 0.33333333333333326, \"x2\": 0.46666666666666656}, {\"x1\": -0.33333333333333337, \"x2\": -0.19999999999999996}, {\"x1\": 1.0, \"x2\": 0.19999999999999996}, {\"x1\": -0.06666666666666665, \"x2\": 0.33333333333333326}, {\"x1\": 0.7333333333333334, \"x2\": 0.7333333333333334}, {\"x1\": 1.0, \"x2\": 0.19999999999999996}, {\"x1\": 1.0, \"x2\": 0.33333333333333326}, {\"x1\": 1.0, \"x2\": 0.19999999999999996}, {\"x1\": 0.6000000000000001, \"x2\": 0.19999999999999996}, {\"x1\": 1.0, \"x2\": -0.33333333333333337}, {\"x1\": 0.8666666666666667, \"x2\": 0.8666666666666667}, {\"x1\": -0.06666666666666665, \"x2\": 0.19999999999999996}, {\"x1\": -0.7333333333333334, \"x2\": 0.33333333333333326}, {\"x1\": 0.7333333333333334, \"x2\": 0.33333333333333326}, {\"x1\": -0.06666666666666665, \"x2\": -1.0}, {\"x1\": 0.33333333333333326, \"x2\": 0.33333333333333326}, {\"x1\": -1.0, \"x2\": -0.8666666666666667}, {\"x1\": -0.7333333333333334, \"x2\": -0.7333333333333334}, {\"x1\": 0.8666666666666667, \"x2\": 0.46666666666666656}, {\"x1\": -0.6, \"x2\": -0.19999999999999996}, {\"x1\": 0.06666666666666665, \"x2\": -1.0}, {\"x1\": 1.0, \"x2\": -0.33333333333333337}, {\"x1\": 0.06666666666666665, \"x2\": 0.46666666666666656}, {\"x1\": -0.33333333333333337, \"x2\": 0.06666666666666665}, {\"x1\": -0.7333333333333334, \"x2\": 0.33333333333333326}, {\"x1\": -1.0, \"x2\": 0.7333333333333334}, {\"x1\": -0.19999999999999996, \"x2\": 0.6000000000000001}, {\"x1\": 0.6000000000000001, \"x2\": 0.46666666666666656}, {\"x1\": -0.7333333333333334, \"x2\": 0.6000000000000001}, {\"x1\": 0.33333333333333326, \"x2\": 0.19999999999999996}, {\"x1\": 0.19999999999999996, \"x2\": 0.46666666666666656}, {\"x1\": -0.6, \"x2\": 0.8666666666666667}, {\"x1\": 0.6000000000000001, \"x2\": -0.8666666666666667}, {\"x1\": -0.8666666666666667, \"x2\": 0.46666666666666656}, {\"x1\": 0.46666666666666656, \"x2\": -0.06666666666666665}, {\"x1\": -0.6, \"x2\": 0.46666666666666656}, {\"x1\": 1.0, \"x2\": -0.8666666666666667}, {\"x1\": 0.06666666666666665, \"x2\": 0.19999999999999996}, {\"x1\": -1.0, \"x2\": 0.8666666666666667}, {\"x1\": 0.7333333333333334, \"x2\": 0.8666666666666667}, {\"x1\": -1.0, \"x2\": -0.33333333333333337}, {\"x1\": -0.19999999999999996, \"x2\": -0.19999999999999996}, {\"x1\": -0.06666666666666665, \"x2\": 0.6000000000000001}, {\"x1\": 0.19999999999999996, \"x2\": 0.33333333333333326}, {\"x1\": 0.33333333333333326, \"x2\": 0.33333333333333326}, {\"x1\": 0.19999999999999996, \"x2\": 0.33333333333333326}, {\"x1\": 1.0, \"x2\": -0.6}, {\"x1\": 0.19999999999999996, \"x2\": 0.33333333333333326}, {\"x1\": 0.8666666666666667, \"x2\": -1.0}, {\"x1\": 0.06666666666666665, \"x2\": 0.33333333333333326}, {\"x1\": 0.33333333333333326, \"x2\": 0.46666666666666656}, {\"x1\": -0.19999999999999996, \"x2\": -0.19999999999999996}, {\"x1\": -0.7333333333333334, \"x2\": 0.8666666666666667}, {\"x1\": 0.7333333333333334, \"x2\": 0.6000000000000001}, {\"x1\": -0.33333333333333337, \"x2\": 0.6000000000000001}, {\"x1\": 0.46666666666666656, \"x2\": 0.46666666666666656}, {\"x1\": -0.8666666666666667, \"x2\": 0.6000000000000001}, {\"x1\": -1.0, \"x2\": -1.0}, {\"x1\": -0.7333333333333334, \"x2\": 0.06666666666666665}, {\"x1\": -0.33333333333333337, \"x2\": 0.19999999999999996}, {\"x1\": 0.46666666666666656, \"x2\": -0.33333333333333337}, {\"x1\": -0.8666666666666667, \"x2\": -0.6}, {\"x1\": -0.6, \"x2\": 0.7333333333333334}, {\"x1\": 1.0, \"x2\": -0.6}, {\"x1\": 0.33333333333333326, \"x2\": 0.6000000000000001}, {\"x1\": 0.8666666666666667, \"x2\": 0.33333333333333326}, {\"x1\": -0.06666666666666665, \"x2\": -0.19999999999999996}, {\"x1\": -1.0, \"x2\": -1.0}, {\"x1\": -0.19999999999999996, \"x2\": 0.6000000000000001}, {\"x1\": -0.33333333333333337, \"x2\": 0.7333333333333334}, {\"x1\": -0.06666666666666665, \"x2\": 0.06666666666666665}, {\"x1\": 0.7333333333333334, \"x2\": -0.06666666666666665}, {\"x1\": 1.0, \"x2\": -0.8666666666666667}, {\"x1\": 0.8666666666666667, \"x2\": -0.33333333333333337}, {\"x1\": -0.4666666666666667, \"x2\": -0.6}, {\"x1\": 0.33333333333333326, \"x2\": 0.46666666666666656}, {\"x1\": 0.19999999999999996, \"x2\": 0.33333333333333326}, {\"x1\": 0.33333333333333326, \"x2\": 0.33333333333333326}, {\"x1\": -0.4666666666666667, \"x2\": 0.33333333333333326}, {\"x1\": -0.6, \"x2\": 0.33333333333333326}, {\"x1\": -0.33333333333333337, \"x2\": -0.33333333333333337}, {\"x1\": -1.0, \"x2\": -0.33333333333333337}, {\"x1\": 0.6000000000000001, \"x2\": 0.33333333333333326}, {\"x1\": -1.0, \"x2\": -1.0}, {\"x1\": 0.46666666666666656, \"x2\": 0.33333333333333326}, {\"x1\": 0.7333333333333334, \"x2\": 0.7333333333333334}, {\"x1\": 0.8666666666666667, \"x2\": 0.46666666666666656}, {\"x1\": -1.0, \"x2\": -0.33333333333333337}, {\"x1\": -0.7333333333333334, \"x2\": 0.33333333333333326}, {\"x1\": 0.6000000000000001, \"x2\": 0.33333333333333326}, {\"x1\": 0.7333333333333334, \"x2\": 0.7333333333333334}, {\"x1\": 0.7333333333333334, \"x2\": 0.8666666666666667}, {\"x1\": -0.33333333333333337, \"x2\": 0.33333333333333326}, {\"x1\": 0.33333333333333326, \"x2\": 0.19999999999999996}, {\"x1\": 0.33333333333333326, \"x2\": -0.19999999999999996}, {\"x1\": 0.8666666666666667, \"x2\": 0.33333333333333326}, {\"x1\": 0.8666666666666667, \"x2\": 0.33333333333333326}, {\"x1\": -1.0, \"x2\": 0.8666666666666667}, {\"x1\": 0.7333333333333334, \"x2\": 0.7333333333333334}, {\"x1\": 0.06666666666666665, \"x2\": 0.46666666666666656}, {\"x1\": -0.33333333333333337, \"x2\": -0.33333333333333337}, {\"x1\": -0.33333333333333337, \"x2\": -0.19999999999999996}, {\"x1\": 0.8666666666666667, \"x2\": 0.7333333333333334}, {\"x1\": 0.7333333333333334, \"x2\": 0.6000000000000001}, {\"x1\": 0.6000000000000001, \"x2\": 0.6000000000000001}, {\"x1\": 0.19999999999999996, \"x2\": 0.33333333333333326}, {\"x1\": -0.19999999999999996, \"x2\": 0.6000000000000001}, {\"x1\": 0.7333333333333334, \"x2\": 0.33333333333333326}, {\"x1\": -0.19999999999999996, \"x2\": 0.7333333333333334}, {\"x1\": -0.33333333333333337, \"x2\": -0.19999999999999996}, {\"x1\": -0.6, \"x2\": -0.8666666666666667}, {\"x1\": 0.19999999999999996, \"x2\": 1.0}, {\"x1\": -0.33333333333333337, \"x2\": -0.19999999999999996}, {\"x1\": -0.6, \"x2\": 0.6000000000000001}, {\"x1\": -0.19999999999999996, \"x2\": -0.33333333333333337}, {\"x1\": -0.8666666666666667, \"x2\": 1.0}, {\"x1\": 0.19999999999999996, \"x2\": 0.46666666666666656}, {\"x1\": 0.8666666666666667, \"x2\": 0.6000000000000001}, {\"x1\": -0.6, \"x2\": 0.7333333333333334}, {\"x1\": -0.19999999999999996, \"x2\": 0.6000000000000001}, {\"x1\": -0.19999999999999996, \"x2\": -0.7333333333333334}, {\"x1\": -0.06666666666666665, \"x2\": -1.0}, {\"x1\": 0.33333333333333326, \"x2\": 0.46666666666666656}, {\"x1\": 0.46666666666666656, \"x2\": 0.19999999999999996}, {\"x1\": -0.4666666666666667, \"x2\": -0.4666666666666667}, {\"x1\": 0.7333333333333334, \"x2\": 0.33333333333333326}, {\"x1\": -0.7333333333333334, \"x2\": 0.46666666666666656}, {\"x1\": 0.46666666666666656, \"x2\": -0.19999999999999996}, {\"x1\": -0.33333333333333337, \"x2\": 0.19999999999999996}, {\"x1\": -0.4666666666666667, \"x2\": 0.7333333333333334}, {\"x1\": -1.0, \"x2\": 0.8666666666666667}, {\"x1\": -0.8666666666666667, \"x2\": 1.0}, {\"x1\": -0.06666666666666665, \"x2\": -0.6}, {\"x1\": 0.19999999999999996, \"x2\": 0.33333333333333326}, {\"x1\": -0.7333333333333334, \"x2\": -0.7333333333333334}, {\"x1\": 0.33333333333333326, \"x2\": 0.33333333333333326}, {\"x1\": -0.4666666666666667, \"x2\": -0.8666666666666667}, {\"x1\": 0.33333333333333326, \"x2\": -0.8666666666666667}, {\"x1\": 0.19999999999999996, \"x2\": 0.33333333333333326}, {\"x1\": 0.33333333333333326, \"x2\": 0.33333333333333326}, {\"x1\": -0.19999999999999996, \"x2\": 0.6000000000000001}, {\"x1\": 0.46666666666666656, \"x2\": -0.8666666666666667}, {\"x1\": -0.19999999999999996, \"x2\": -0.4666666666666667}, {\"x1\": -0.7333333333333334, \"x2\": -0.7333333333333334}, {\"x1\": 0.6000000000000001, \"x2\": 0.6000000000000001}, {\"x1\": 0.7333333333333334, \"x2\": -1.0}, {\"x1\": -0.06666666666666665, \"x2\": 0.19999999999999996}, {\"x1\": -0.19999999999999996, \"x2\": 0.6000000000000001}, {\"x1\": 0.33333333333333326, \"x2\": 0.46666666666666656}, {\"x1\": -0.4666666666666667, \"x2\": -1.0}, {\"x1\": 0.6000000000000001, \"x2\": 0.7333333333333334}, {\"x1\": 0.33333333333333326, \"x2\": 0.46666666666666656}, {\"x1\": -0.4666666666666667, \"x2\": 0.19999999999999996}, {\"x1\": 0.33333333333333326, \"x2\": -0.06666666666666665}, {\"x1\": -0.06666666666666665, \"x2\": 0.6000000000000001}, {\"x1\": 0.19999999999999996, \"x2\": 0.33333333333333326}, {\"x1\": -0.19999999999999996, \"x2\": 0.7333333333333334}, {\"x1\": 0.7333333333333334, \"x2\": 0.7333333333333334}, {\"x1\": 0.19999999999999996, \"x2\": 0.33333333333333326}, {\"x1\": -0.7333333333333334, \"x2\": 0.33333333333333326}, {\"x1\": 0.06666666666666665, \"x2\": 0.33333333333333326}, {\"x1\": 0.19999999999999996, \"x2\": 0.33333333333333326}, {\"x1\": 0.06666666666666665, \"x2\": 0.33333333333333326}, {\"x1\": -0.06666666666666665, \"x2\": 0.6000000000000001}, {\"x1\": -0.19999999999999996, \"x2\": 0.6000000000000001}, {\"x1\": -0.7333333333333334, \"x2\": 1.0}, {\"x1\": -0.19999999999999996, \"x2\": 0.6000000000000001}, {\"x1\": -0.06666666666666665, \"x2\": 0.6000000000000001}, {\"x1\": 0.6000000000000001, \"x2\": 0.33333333333333326}, {\"x1\": -0.6, \"x2\": 0.6000000000000001}, {\"x1\": 0.33333333333333326, \"x2\": 0.19999999999999996}, {\"x1\": -0.7333333333333334, \"x2\": -0.7333333333333334}, {\"x1\": -0.06666666666666665, \"x2\": 0.33333333333333326}, {\"x1\": 0.19999999999999996, \"x2\": 0.33333333333333326}, {\"x1\": -0.8666666666666667, \"x2\": 0.33333333333333326}, {\"x1\": -0.19999999999999996, \"x2\": 0.7333333333333334}, {\"x1\": 0.7333333333333334, \"x2\": -0.06666666666666665}, {\"x1\": -0.33333333333333337, \"x2\": -1.0}, {\"x1\": -0.7333333333333334, \"x2\": -0.19999999999999996}, {\"x1\": 0.19999999999999996, \"x2\": 0.33333333333333326}, {\"x1\": -0.8666666666666667, \"x2\": 0.8666666666666667}, {\"x1\": 0.06666666666666665, \"x2\": 0.19999999999999996}, {\"x1\": 0.8666666666666667, \"x2\": -0.06666666666666665}, {\"x1\": -0.06666666666666665, \"x2\": 0.06666666666666665}, {\"x1\": -0.4666666666666667, \"x2\": -0.4666666666666667}, {\"x1\": -0.33333333333333337, \"x2\": -0.6}, {\"x1\": 0.8666666666666667, \"x2\": 0.46666666666666656}, {\"x1\": -1.0, \"x2\": -0.33333333333333337}, {\"x1\": -1.0, \"x2\": -0.33333333333333337}, {\"x1\": 0.8666666666666667, \"x2\": 0.7333333333333334}, {\"x1\": 0.7333333333333334, \"x2\": 0.7333333333333334}, {\"x1\": -0.4666666666666667, \"x2\": 0.7333333333333334}, {\"x1\": 0.33333333333333326, \"x2\": 0.6000000000000001}, {\"x1\": 0.46666666666666656, \"x2\": -0.8666666666666667}, {\"x1\": -0.33333333333333337, \"x2\": -0.19999999999999996}, {\"x1\": -0.06666666666666665, \"x2\": 0.33333333333333326}, {\"x1\": 0.46666666666666656, \"x2\": 0.33333333333333326}, {\"x1\": 0.8666666666666667, \"x2\": 0.33333333333333326}, {\"x1\": 0.19999999999999996, \"x2\": 0.46666666666666656}, {\"x1\": 0.8666666666666667, \"x2\": -0.19999999999999996}, {\"x1\": -0.33333333333333337, \"x2\": 0.6000000000000001}, {\"x1\": 0.19999999999999996, \"x2\": 0.33333333333333326}, {\"x1\": 0.46666666666666656, \"x2\": 0.46666666666666656}, {\"x1\": -0.7333333333333334, \"x2\": 0.06666666666666665}, {\"x1\": -0.19999999999999996, \"x2\": -0.06666666666666665}, {\"x1\": -0.19999999999999996, \"x2\": 0.19999999999999996}, {\"x1\": -1.0, \"x2\": -1.0}, {\"x1\": 0.19999999999999996, \"x2\": -0.06666666666666665}, {\"x1\": 0.6000000000000001, \"x2\": -0.7333333333333334}, {\"x1\": 0.6000000000000001, \"x2\": 0.6000000000000001}, {\"x1\": 1.0, \"x2\": 0.19999999999999996}, {\"x1\": 0.6000000000000001, \"x2\": 0.19999999999999996}, {\"x1\": 0.46666666666666656, \"x2\": -0.8666666666666667}, {\"x1\": -0.6, \"x2\": 0.6000000000000001}, {\"x1\": 0.8666666666666667, \"x2\": 0.6000000000000001}, {\"x1\": 0.33333333333333326, \"x2\": 0.19999999999999996}, {\"x1\": -0.33333333333333337, \"x2\": -0.8666666666666667}, {\"x1\": 0.8666666666666667, \"x2\": -0.6}, {\"x1\": -1.0, \"x2\": -1.0}, {\"x1\": -0.4666666666666667, \"x2\": 0.8666666666666667}, {\"x1\": -0.7333333333333334, \"x2\": -0.7333333333333334}, {\"x1\": 0.06666666666666665, \"x2\": 0.8666666666666667}, {\"x1\": 0.6000000000000001, \"x2\": -0.8666666666666667}, {\"x1\": -1.0, \"x2\": 1.0}, {\"x1\": 0.33333333333333326, \"x2\": -0.33333333333333337}, {\"x1\": 0.7333333333333334, \"x2\": -0.06666666666666665}, {\"x1\": 0.46666666666666656, \"x2\": 0.19999999999999996}, {\"x1\": -0.4666666666666667, \"x2\": -0.6}, {\"x1\": -0.6, \"x2\": 0.33333333333333326}, {\"x1\": -0.06666666666666665, \"x2\": -0.6}, {\"x1\": 0.8666666666666667, \"x2\": 0.06666666666666665}, {\"x1\": 0.8666666666666667, \"x2\": 0.33333333333333326}, {\"x1\": 0.8666666666666667, \"x2\": -1.0}, {\"x1\": -0.06666666666666665, \"x2\": 0.6000000000000001}, {\"x1\": 0.33333333333333326, \"x2\": -0.06666666666666665}, {\"x1\": -0.33333333333333337, \"x2\": 0.19999999999999996}, {\"x1\": -0.33333333333333337, \"x2\": 0.19999999999999996}, {\"x1\": -0.7333333333333334, \"x2\": -0.7333333333333334}, {\"x1\": 0.19999999999999996, \"x2\": 0.33333333333333326}, {\"x1\": 0.06666666666666665, \"x2\": 0.19999999999999996}, {\"x1\": -0.06666666666666665, \"x2\": -1.0}, {\"x1\": 0.46666666666666656, \"x2\": 1.0}, {\"x1\": 0.33333333333333326, \"x2\": -0.33333333333333337}, {\"x1\": 0.7333333333333334, \"x2\": 0.19999999999999996}, {\"x1\": 0.33333333333333326, \"x2\": 1.0}, {\"x1\": 0.7333333333333334, \"x2\": 0.7333333333333334}, {\"x1\": -0.7333333333333334, \"x2\": 0.33333333333333326}, {\"x1\": -0.06666666666666665, \"x2\": -1.0}, {\"x1\": -0.33333333333333337, \"x2\": 0.6000000000000001}, {\"x1\": 0.33333333333333326, \"x2\": 0.06666666666666665}, {\"x1\": 1.0, \"x2\": -1.0}, {\"x1\": -0.8666666666666667, \"x2\": 1.0}, {\"x1\": 0.7333333333333334, \"x2\": 0.6000000000000001}, {\"x1\": 0.6000000000000001, \"x2\": 0.19999999999999996}, {\"x1\": 0.33333333333333326, \"x2\": 0.19999999999999996}, {\"x1\": -0.7333333333333334, \"x2\": -0.7333333333333334}, {\"x1\": 0.33333333333333326, \"x2\": -0.19999999999999996}, {\"x1\": 0.46666666666666656, \"x2\": -0.8666666666666667}, {\"x1\": -0.33333333333333337, \"x2\": -0.6}, {\"x1\": -0.7333333333333334, \"x2\": -0.7333333333333334}, {\"x1\": 0.33333333333333326, \"x2\": 0.33333333333333326}, {\"x1\": 0.33333333333333326, \"x2\": 0.33333333333333326}, {\"x1\": 0.06666666666666665, \"x2\": 0.46666666666666656}, {\"x1\": 0.33333333333333326, \"x2\": 0.33333333333333326}, {\"x1\": -0.19999999999999996, \"x2\": -0.8666666666666667}, {\"x1\": 0.7333333333333334, \"x2\": 0.6000000000000001}, {\"x1\": 0.33333333333333326, \"x2\": 0.33333333333333326}, {\"x1\": 0.6000000000000001, \"x2\": 0.6000000000000001}, {\"x1\": -0.33333333333333337, \"x2\": 0.8666666666666667}, {\"x1\": 0.7333333333333334, \"x2\": 0.8666666666666667}, {\"x1\": -0.33333333333333337, \"x2\": 0.6000000000000001}, {\"x1\": 0.19999999999999996, \"x2\": 0.33333333333333326}, {\"x1\": -0.8666666666666667, \"x2\": -1.0}, {\"x1\": -0.33333333333333337, \"x2\": 0.33333333333333326}, {\"x1\": -0.19999999999999996, \"x2\": -0.6}, {\"x1\": -0.33333333333333337, \"x2\": 0.33333333333333326}, {\"x1\": -0.6, \"x2\": 0.6000000000000001}, {\"x1\": 0.33333333333333326, \"x2\": 0.19999999999999996}, {\"x1\": 0.33333333333333326, \"x2\": 0.46666666666666656}, {\"x1\": 0.6000000000000001, \"x2\": 0.7333333333333334}, {\"x1\": 0.8666666666666667, \"x2\": 0.8666666666666667}, {\"x1\": 0.6000000000000001, \"x2\": 0.6000000000000001}, {\"x1\": 0.19999999999999996, \"x2\": 0.6000000000000001}, {\"x1\": 0.19999999999999996, \"x2\": 0.33333333333333326}, {\"x1\": -1.0, \"x2\": -0.8666666666666667}, {\"x1\": -1.0, \"x2\": -1.0}, {\"x1\": 0.8666666666666667, \"x2\": -0.19999999999999996}, {\"x1\": 0.6000000000000001, \"x2\": 0.19999999999999996}, {\"x1\": 1.0, \"x2\": -0.6}, {\"x1\": 0.33333333333333326, \"x2\": 0.33333333333333326}, {\"x1\": 0.19999999999999996, \"x2\": 0.46666666666666656}, {\"x1\": 0.46666666666666656, \"x2\": -0.06666666666666665}, {\"x1\": 0.46666666666666656, \"x2\": 0.46666666666666656}, {\"x1\": -0.06666666666666665, \"x2\": 0.6000000000000001}, {\"x1\": -1.0, \"x2\": 0.7333333333333334}, {\"x1\": 0.6000000000000001, \"x2\": 0.19999999999999996}, {\"x1\": -0.19999999999999996, \"x2\": -0.4666666666666667}, {\"x1\": 0.33333333333333326, \"x2\": 0.33333333333333326}, {\"x1\": 1.0, \"x2\": -1.0}, {\"x1\": 1.0, \"x2\": -0.6}, {\"x1\": 0.19999999999999996, \"x2\": 0.33333333333333326}, {\"x1\": 0.46666666666666656, \"x2\": 0.33333333333333326}, {\"x1\": -0.6, \"x2\": 0.19999999999999996}, {\"x1\": 0.8666666666666667, \"x2\": -0.33333333333333337}, {\"x1\": -0.19999999999999996, \"x2\": 0.6000000000000001}, {\"x1\": -0.19999999999999996, \"x2\": 0.06666666666666665}, {\"x1\": -0.8666666666666667, \"x2\": 0.33333333333333326}, {\"x1\": 0.33333333333333326, \"x2\": 1.0}, {\"x1\": -0.6, \"x2\": 0.7333333333333334}, {\"x1\": 1.0, \"x2\": -1.0}, {\"x1\": -0.06666666666666665, \"x2\": 0.06666666666666665}, {\"x1\": 1.0, \"x2\": -0.4666666666666667}, {\"x1\": 0.8666666666666667, \"x2\": 0.33333333333333326}, {\"x1\": -0.33333333333333337, \"x2\": 0.19999999999999996}, {\"x1\": -1.0, \"x2\": 0.8666666666666667}, {\"x1\": 0.33333333333333326, \"x2\": 0.8666666666666667}, {\"x1\": -1.0, \"x2\": 0.8666666666666667}, {\"x1\": 0.7333333333333334, \"x2\": 0.7333333333333334}, {\"x1\": -0.7333333333333334, \"x2\": 0.8666666666666667}, {\"x1\": -0.19999999999999996, \"x2\": -0.06666666666666665}, {\"x1\": -0.8666666666666667, \"x2\": 0.33333333333333326}, {\"x1\": 0.46666666666666656, \"x2\": 0.46666666666666656}, {\"x1\": 1.0, \"x2\": -1.0}, {\"x1\": -0.7333333333333334, \"x2\": -0.7333333333333334}, {\"x1\": -0.8666666666666667, \"x2\": -0.8666666666666667}, {\"x1\": -0.19999999999999996, \"x2\": 0.19999999999999996}, {\"x1\": 0.7333333333333334, \"x2\": 0.6000000000000001}, {\"x1\": 0.7333333333333334, \"x2\": 0.7333333333333334}, {\"x1\": -0.06666666666666665, \"x2\": 0.46666666666666656}, {\"x1\": 0.7333333333333334, \"x2\": 0.19999999999999996}, {\"x1\": -0.33333333333333337, \"x2\": 0.33333333333333326}, {\"x1\": 0.33333333333333326, \"x2\": 0.33333333333333326}, {\"x1\": 0.19999999999999996, \"x2\": 0.33333333333333326}, {\"x1\": 0.06666666666666665, \"x2\": 0.46666666666666656}, {\"x1\": 0.06666666666666665, \"x2\": 0.33333333333333326}, {\"x1\": -0.8666666666666667, \"x2\": -0.8666666666666667}, {\"x1\": 0.8666666666666667, \"x2\": 0.33333333333333326}, {\"x1\": -0.19999999999999996, \"x2\": 0.33333333333333326}, {\"x1\": 0.8666666666666667, \"x2\": 0.19999999999999996}, {\"x1\": -0.6, \"x2\": 0.19999999999999996}, {\"x1\": -0.7333333333333334, \"x2\": 0.33333333333333326}, {\"x1\": -0.19999999999999996, \"x2\": -0.8666666666666667}, {\"x1\": -0.6, \"x2\": 0.7333333333333334}, {\"x1\": 0.8666666666666667, \"x2\": 0.19999999999999996}, {\"x1\": 0.7333333333333334, \"x2\": 0.6000000000000001}, {\"x1\": 0.19999999999999996, \"x2\": -0.33333333333333337}, {\"x1\": 0.19999999999999996, \"x2\": 0.33333333333333326}, {\"x1\": 0.33333333333333326, \"x2\": 0.46666666666666656}, {\"x1\": -1.0, \"x2\": -0.33333333333333337}, {\"x1\": 0.33333333333333326, \"x2\": 0.46666666666666656}, {\"x1\": 0.19999999999999996, \"x2\": 0.19999999999999996}, {\"x1\": -0.7333333333333334, \"x2\": 0.46666666666666656}, {\"x1\": 0.33333333333333326, \"x2\": -0.33333333333333337}, {\"x1\": 0.33333333333333326, \"x2\": -0.8666666666666667}, {\"x1\": -0.19999999999999996, \"x2\": 0.19999999999999996}, {\"x1\": 0.33333333333333326, \"x2\": -0.8666666666666667}, {\"x1\": 0.7333333333333334, \"x2\": 0.6000000000000001}, {\"x1\": 0.7333333333333334, \"x2\": 0.7333333333333334}, {\"x1\": -0.6, \"x2\": 0.19999999999999996}, {\"x1\": 0.33333333333333326, \"x2\": -0.8666666666666667}, {\"x1\": 0.33333333333333326, \"x2\": -0.8666666666666667}, {\"x1\": -0.33333333333333337, \"x2\": 0.6000000000000001}, {\"x1\": -0.6, \"x2\": 0.6000000000000001}, {\"x1\": -1.0, \"x2\": -1.0}, {\"x1\": -0.33333333333333337, \"x2\": 0.33333333333333326}, {\"x1\": 0.06666666666666665, \"x2\": 0.19999999999999996}, {\"x1\": 0.6000000000000001, \"x2\": 0.33333333333333326}, {\"x1\": -0.4666666666666667, \"x2\": 0.7333333333333334}, {\"x1\": -1.0, \"x2\": -0.4666666666666667}, {\"x1\": 0.7333333333333334, \"x2\": 0.7333333333333334}, {\"x1\": 0.19999999999999996, \"x2\": 0.33333333333333326}, {\"x1\": -0.8666666666666667, \"x2\": 1.0}, {\"x1\": 0.33333333333333326, \"x2\": 1.0}, {\"x1\": -0.33333333333333337, \"x2\": -0.06666666666666665}, {\"x1\": 0.46666666666666656, \"x2\": 0.46666666666666656}, {\"x1\": 0.46666666666666656, \"x2\": 0.33333333333333326}, {\"x1\": -0.19999999999999996, \"x2\": -0.7333333333333334}, {\"x1\": -0.7333333333333334, \"x2\": -0.7333333333333334}, {\"x1\": -0.6, \"x2\": 0.6000000000000001}, {\"x1\": 0.33333333333333326, \"x2\": 0.33333333333333326}, {\"x1\": 0.46666666666666656, \"x2\": 0.19999999999999996}, {\"x1\": -0.8666666666666667, \"x2\": 0.33333333333333326}, {\"x1\": 0.6000000000000001, \"x2\": 0.6000000000000001}, {\"x1\": -0.6, \"x2\": 0.7333333333333334}, {\"x1\": -0.19999999999999996, \"x2\": 0.06666666666666665}, {\"x1\": 0.46666666666666656, \"x2\": 0.33333333333333326}, {\"x1\": -0.06666666666666665, \"x2\": 0.19999999999999996}, {\"x1\": 0.6000000000000001, \"x2\": 0.46666666666666656}, {\"x1\": 0.33333333333333326, \"x2\": -0.33333333333333337}, {\"x1\": -0.4666666666666667, \"x2\": -0.4666666666666667}, {\"x1\": -0.7333333333333334, \"x2\": -0.7333333333333334}, {\"x1\": 0.33333333333333326, \"x2\": 0.6000000000000001}, {\"x1\": -1.0, \"x2\": -0.33333333333333337}, {\"x1\": 0.7333333333333334, \"x2\": 0.7333333333333334}, {\"x1\": -0.19999999999999996, \"x2\": 0.6000000000000001}, {\"x1\": -0.06666666666666665, \"x2\": 0.6000000000000001}, {\"x1\": 0.7333333333333334, \"x2\": 0.46666666666666656}, {\"x1\": -0.19999999999999996, \"x2\": -0.06666666666666665}, {\"x1\": -0.33333333333333337, \"x2\": 0.06666666666666665}, {\"x1\": 0.8666666666666667, \"x2\": -1.0}, {\"x1\": -0.06666666666666665, \"x2\": 0.6000000000000001}, {\"x1\": -0.06666666666666665, \"x2\": 0.46666666666666656}, {\"x1\": -0.33333333333333337, \"x2\": -0.4666666666666667}, {\"x1\": 0.33333333333333326, \"x2\": 0.33333333333333326}, {\"x1\": -0.33333333333333337, \"x2\": -0.4666666666666667}, {\"x1\": -0.19999999999999996, \"x2\": -0.06666666666666665}, {\"x1\": 0.6000000000000001, \"x2\": 0.6000000000000001}, {\"x1\": -0.6, \"x2\": -0.7333333333333334}, {\"x1\": 0.33333333333333326, \"x2\": 0.06666666666666665}, {\"x1\": 0.33333333333333326, \"x2\": 0.33333333333333326}, {\"x1\": 0.6000000000000001, \"x2\": 0.33333333333333326}, {\"x1\": -0.4666666666666667, \"x2\": 0.46666666666666656}, {\"x1\": 0.33333333333333326, \"x2\": 0.33333333333333326}, {\"x1\": 0.6000000000000001, \"x2\": 0.8666666666666667}, {\"x1\": 0.6000000000000001, \"x2\": -0.8666666666666667}, {\"x1\": 0.33333333333333326, \"x2\": 0.06666666666666665}, {\"x1\": 1.0, \"x2\": -0.4666666666666667}, {\"x1\": -0.33333333333333337, \"x2\": 0.6000000000000001}, {\"x1\": -1.0, \"x2\": -1.0}, {\"x1\": -0.19999999999999996, \"x2\": 0.7333333333333334}, {\"x1\": -0.7333333333333334, \"x2\": 0.46666666666666656}, {\"x1\": -0.6, \"x2\": -0.6}, {\"x1\": 0.8666666666666667, \"x2\": 0.8666666666666667}, {\"x1\": -0.33333333333333337, \"x2\": 0.46666666666666656}, {\"x1\": -0.19999999999999996, \"x2\": -0.8666666666666667}, {\"x1\": -1.0, \"x2\": 1.0}, {\"x1\": 0.7333333333333334, \"x2\": 0.8666666666666667}, {\"x1\": 0.7333333333333334, \"x2\": 0.7333333333333334}, {\"x1\": -0.06666666666666665, \"x2\": 1.0}, {\"x1\": 0.7333333333333334, \"x2\": 0.8666666666666667}, {\"x1\": -0.06666666666666665, \"x2\": -0.7333333333333334}, {\"x1\": -0.7333333333333334, \"x2\": 0.19999999999999996}, {\"x1\": -1.0, \"x2\": -1.0}, {\"x1\": -0.19999999999999996, \"x2\": 0.46666666666666656}, {\"x1\": -0.06666666666666665, \"x2\": 0.6000000000000001}, {\"x1\": 0.6000000000000001, \"x2\": 0.6000000000000001}, {\"x1\": 0.7333333333333334, \"x2\": 0.19999999999999996}, {\"x1\": -0.06666666666666665, \"x2\": 0.33333333333333326}, {\"x1\": 0.19999999999999996, \"x2\": 0.46666666666666656}, {\"x1\": 0.19999999999999996, \"x2\": 0.06666666666666665}, {\"x1\": 0.33333333333333326, \"x2\": -0.06666666666666665}, {\"x1\": 0.46666666666666656, \"x2\": 0.19999999999999996}, {\"x1\": -0.06666666666666665, \"x2\": 0.06666666666666665}, {\"x1\": -0.06666666666666665, \"x2\": 0.46666666666666656}, {\"x1\": -0.33333333333333337, \"x2\": 0.7333333333333334}, {\"x1\": -1.0, \"x2\": -1.0}, {\"x1\": 0.06666666666666665, \"x2\": 0.33333333333333326}, {\"x1\": 0.19999999999999996, \"x2\": -0.7333333333333334}, {\"x1\": 0.46666666666666656, \"x2\": 0.33333333333333326}, {\"x1\": -1.0, \"x2\": -0.4666666666666667}, {\"x1\": 0.33333333333333326, \"x2\": 0.6000000000000001}, {\"x1\": 0.06666666666666665, \"x2\": -0.7333333333333334}, {\"x1\": 0.8666666666666667, \"x2\": 0.46666666666666656}, {\"x1\": -0.33333333333333337, \"x2\": 0.46666666666666656}, {\"x1\": 0.8666666666666667, \"x2\": 0.33333333333333326}, {\"x1\": 0.46666666666666656, \"x2\": 0.8666666666666667}, {\"x1\": -1.0, \"x2\": -1.0}, {\"x1\": -0.06666666666666665, \"x2\": 0.33333333333333326}, {\"x1\": -0.19999999999999996, \"x2\": 0.46666666666666656}, {\"x1\": -0.7333333333333334, \"x2\": -0.06666666666666665}, {\"x1\": -0.7333333333333334, \"x2\": 1.0}, {\"x1\": 0.7333333333333334, \"x2\": 0.7333333333333334}, {\"x1\": 0.6000000000000001, \"x2\": 0.6000000000000001}, {\"x1\": -0.19999999999999996, \"x2\": 0.33333333333333326}, {\"x1\": 0.8666666666666667, \"x2\": 0.7333333333333334}, {\"x1\": -1.0, \"x2\": -0.8666666666666667}, {\"x1\": -1.0, \"x2\": -0.6}, {\"x1\": 0.19999999999999996, \"x2\": 0.33333333333333326}, {\"x1\": 0.6000000000000001, \"x2\": 0.6000000000000001}, {\"x1\": 0.46666666666666656, \"x2\": 0.6000000000000001}, {\"x1\": 0.46666666666666656, \"x2\": 0.46666666666666656}, {\"x1\": -0.7333333333333334, \"x2\": 0.7333333333333334}, {\"x1\": 0.6000000000000001, \"x2\": -0.06666666666666665}, {\"x1\": 0.33333333333333326, \"x2\": 0.33333333333333326}, {\"x1\": -0.06666666666666665, \"x2\": 0.46666666666666656}, {\"x1\": -1.0, \"x2\": -1.0}, {\"x1\": -0.7333333333333334, \"x2\": -0.7333333333333334}, {\"x1\": 0.46666666666666656, \"x2\": -0.7333333333333334}, {\"x1\": 0.33333333333333326, \"x2\": 0.33333333333333326}, {\"x1\": 0.46666666666666656, \"x2\": 0.33333333333333326}, {\"x1\": 0.8666666666666667, \"x2\": 0.6000000000000001}, {\"x1\": -0.33333333333333337, \"x2\": -0.4666666666666667}, {\"x1\": 0.19999999999999996, \"x2\": -0.7333333333333334}, {\"x1\": 0.19999999999999996, \"x2\": 0.19999999999999996}, {\"x1\": -0.33333333333333337, \"x2\": 0.19999999999999996}, {\"x1\": -0.06666666666666665, \"x2\": -0.7333333333333334}, {\"x1\": 0.8666666666666667, \"x2\": 0.8666666666666667}, {\"x1\": -0.8666666666666667, \"x2\": -1.0}, {\"x1\": 0.33333333333333326, \"x2\": 0.33333333333333326}, {\"x1\": 1.0, \"x2\": -0.33333333333333337}, {\"x1\": 0.06666666666666665, \"x2\": 0.46666666666666656}, {\"x1\": 0.7333333333333334, \"x2\": 0.6000000000000001}, {\"x1\": 0.7333333333333334, \"x2\": 0.19999999999999996}, {\"x1\": 0.33333333333333326, \"x2\": 1.0}, {\"x1\": -0.19999999999999996, \"x2\": -0.8666666666666667}, {\"x1\": 0.33333333333333326, \"x2\": 0.6000000000000001}, {\"x1\": 0.7333333333333334, \"x2\": 0.6000000000000001}, {\"x1\": -0.33333333333333337, \"x2\": -0.33333333333333337}, {\"x1\": 0.19999999999999996, \"x2\": -0.33333333333333337}, {\"x1\": 0.7333333333333334, \"x2\": 0.33333333333333326}, {\"x1\": 0.46666666666666656, \"x2\": 0.33333333333333326}, {\"x1\": -0.06666666666666665, \"x2\": 0.06666666666666665}, {\"x1\": 0.33333333333333326, \"x2\": -0.33333333333333337}, {\"x1\": -1.0, \"x2\": -1.0}, {\"x1\": -1.0, \"x2\": -1.0}, {\"x1\": -0.06666666666666665, \"x2\": 0.33333333333333326}, {\"x1\": 0.46666666666666656, \"x2\": 0.6000000000000001}, {\"x1\": -0.8666666666666667, \"x2\": 0.33333333333333326}, {\"x1\": -1.0, \"x2\": 0.46666666666666656}, {\"x1\": 0.46666666666666656, \"x2\": 1.0}, {\"x1\": 0.8666666666666667, \"x2\": -1.0}, {\"x1\": 0.7333333333333334, \"x2\": 0.7333333333333334}, {\"x1\": -0.33333333333333337, \"x2\": -0.4666666666666667}, {\"x1\": 0.33333333333333326, \"x2\": 0.7333333333333334}, {\"x1\": -0.06666666666666665, \"x2\": 0.6000000000000001}, {\"x1\": 0.46666666666666656, \"x2\": 0.33333333333333326}, {\"x1\": 1.0, \"x2\": -0.6}, {\"x1\": -0.6, \"x2\": 0.19999999999999996}, {\"x1\": 0.6000000000000001, \"x2\": 0.6000000000000001}, {\"x1\": 0.33333333333333326, \"x2\": -0.7333333333333334}, {\"x1\": -0.7333333333333334, \"x2\": -0.7333333333333334}, {\"x1\": -1.0, \"x2\": -1.0}, {\"x1\": -0.19999999999999996, \"x2\": 0.33333333333333326}, {\"x1\": -1.0, \"x2\": 1.0}, {\"x1\": 0.6000000000000001, \"x2\": 0.33333333333333326}, {\"x1\": -0.6, \"x2\": 0.19999999999999996}, {\"x1\": 0.06666666666666665, \"x2\": 0.46666666666666656}, {\"x1\": -0.06666666666666665, \"x2\": 0.7333333333333334}, {\"x1\": -0.8666666666666667, \"x2\": -0.8666666666666667}, {\"x1\": -1.0, \"x2\": 0.7333333333333334}, {\"x1\": -0.19999999999999996, \"x2\": -0.19999999999999996}, {\"x1\": 0.46666666666666656, \"x2\": 0.06666666666666665}, {\"x1\": 0.19999999999999996, \"x2\": -0.7333333333333334}, {\"x1\": -0.19999999999999996, \"x2\": 0.6000000000000001}, {\"x1\": -0.33333333333333337, \"x2\": 0.33333333333333326}, {\"x1\": 0.06666666666666665, \"x2\": 0.19999999999999996}, {\"x1\": 0.06666666666666665, \"x2\": 0.33333333333333326}, {\"x1\": 0.6000000000000001, \"x2\": 0.19999999999999996}, {\"x1\": 0.06666666666666665, \"x2\": 0.33333333333333326}, {\"x1\": -0.33333333333333337, \"x2\": -0.33333333333333337}, {\"x1\": -0.06666666666666665, \"x2\": -1.0}, {\"x1\": -0.8666666666666667, \"x2\": 1.0}, {\"x1\": 0.33333333333333326, \"x2\": 1.0}, {\"x1\": -0.7333333333333334, \"x2\": 1.0}, {\"x1\": -0.7333333333333334, \"x2\": 1.0}, {\"x1\": -0.8666666666666667, \"x2\": 1.0}, {\"x1\": -0.7333333333333334, \"x2\": 0.33333333333333326}, {\"x1\": -1.0, \"x2\": 0.8666666666666667}, {\"x1\": 0.19999999999999996, \"x2\": 0.19999999999999996}, {\"x1\": -1.0, \"x2\": 0.6000000000000001}, {\"x1\": 0.46666666666666656, \"x2\": 0.46666666666666656}, {\"x1\": 0.33333333333333326, \"x2\": 0.06666666666666665}, {\"x1\": 0.33333333333333326, \"x2\": 0.19999999999999996}, {\"x1\": -0.33333333333333337, \"x2\": -0.06666666666666665}, {\"x1\": 0.46666666666666656, \"x2\": 0.46666666666666656}, {\"x1\": 0.46666666666666656, \"x2\": 0.33333333333333326}, {\"x1\": -0.33333333333333337, \"x2\": 0.8666666666666667}, {\"x1\": -0.19999999999999996, \"x2\": -1.0}, {\"x1\": -0.19999999999999996, \"x2\": 0.6000000000000001}, {\"x1\": 0.33333333333333326, \"x2\": -0.8666666666666667}, {\"x1\": 0.33333333333333326, \"x2\": -0.33333333333333337}, {\"x1\": 0.46666666666666656, \"x2\": 0.19999999999999996}, {\"x1\": -0.06666666666666665, \"x2\": 0.19999999999999996}, {\"x1\": 0.46666666666666656, \"x2\": 0.33333333333333326}, {\"x1\": 0.19999999999999996, \"x2\": -0.7333333333333334}, {\"x1\": -0.7333333333333334, \"x2\": -0.19999999999999996}, {\"x1\": 0.33333333333333326, \"x2\": 1.0}, {\"x1\": 0.33333333333333326, \"x2\": 1.0}, {\"x1\": -0.19999999999999996, \"x2\": -0.33333333333333337}, {\"x1\": -0.33333333333333337, \"x2\": 0.7333333333333334}, {\"x1\": 0.06666666666666665, \"x2\": 0.19999999999999996}, {\"x1\": -0.7333333333333334, \"x2\": 0.8666666666666667}, {\"x1\": 0.8666666666666667, \"x2\": 0.19999999999999996}, {\"x1\": -0.8666666666666667, \"x2\": -0.8666666666666667}, {\"x1\": 0.06666666666666665, \"x2\": 0.06666666666666665}, {\"x1\": -0.33333333333333337, \"x2\": 0.6000000000000001}, {\"x1\": 0.33333333333333326, \"x2\": 1.0}, {\"x1\": 0.7333333333333334, \"x2\": 0.7333333333333334}, {\"x1\": -0.19999999999999996, \"x2\": -0.7333333333333334}, {\"x1\": -0.19999999999999996, \"x2\": -0.19999999999999996}, {\"x1\": 0.06666666666666665, \"x2\": 0.7333333333333334}, {\"x1\": 0.33333333333333326, \"x2\": 0.46666666666666656}, {\"x1\": 0.6000000000000001, \"x2\": 0.7333333333333334}, {\"x1\": -0.7333333333333334, \"x2\": 0.8666666666666667}, {\"x1\": 0.6000000000000001, \"x2\": 0.46666666666666656}, {\"x1\": 0.33333333333333326, \"x2\": 0.33333333333333326}, {\"x1\": -1.0, \"x2\": -0.8666666666666667}, {\"x1\": -0.7333333333333334, \"x2\": -0.19999999999999996}, {\"x1\": 0.06666666666666665, \"x2\": 0.7333333333333334}, {\"x1\": -0.19999999999999996, \"x2\": 0.19999999999999996}, {\"x1\": 0.46666666666666656, \"x2\": 0.6000000000000001}, {\"x1\": 0.7333333333333334, \"x2\": 0.6000000000000001}, {\"x1\": -1.0, \"x2\": -0.8666666666666667}, {\"x1\": 0.06666666666666665, \"x2\": 0.6000000000000001}, {\"x1\": -1.0, \"x2\": -1.0}, {\"x1\": 0.7333333333333334, \"x2\": 0.7333333333333334}, {\"x1\": -0.19999999999999996, \"x2\": 0.06666666666666665}, {\"x1\": 0.7333333333333334, \"x2\": 0.7333333333333334}, {\"x1\": 0.7333333333333334, \"x2\": 0.8666666666666667}, {\"x1\": 0.6000000000000001, \"x2\": 0.7333333333333334}, {\"x1\": 0.7333333333333334, \"x2\": 0.7333333333333334}, {\"x1\": -0.06666666666666665, \"x2\": 0.6000000000000001}, {\"x1\": -0.7333333333333334, \"x2\": -0.7333333333333334}, {\"x1\": 0.19999999999999996, \"x2\": 0.46666666666666656}, {\"x1\": 0.33333333333333326, \"x2\": 0.46666666666666656}, {\"x1\": 0.8666666666666667, \"x2\": -1.0}, {\"x1\": 0.46666666666666656, \"x2\": 0.46666666666666656}, {\"x1\": 0.33333333333333326, \"x2\": -0.8666666666666667}, {\"x1\": -0.33333333333333337, \"x2\": -0.33333333333333337}, {\"x1\": -0.33333333333333337, \"x2\": 0.7333333333333334}, {\"x1\": -0.19999999999999996, \"x2\": 0.46666666666666656}, {\"x1\": -1.0, \"x2\": -0.6}, {\"x1\": 0.7333333333333334, \"x2\": 0.7333333333333334}, {\"x1\": -0.19999999999999996, \"x2\": 0.46666666666666656}, {\"x1\": 0.46666666666666656, \"x2\": -0.8666666666666667}, {\"x1\": 0.19999999999999996, \"x2\": 0.33333333333333326}, {\"x1\": 0.7333333333333334, \"x2\": 0.8666666666666667}, {\"x1\": 0.46666666666666656, \"x2\": -0.19999999999999996}, {\"x1\": -0.33333333333333337, \"x2\": 0.7333333333333334}, {\"x1\": 0.06666666666666665, \"x2\": -0.19999999999999996}, {\"x1\": -1.0, \"x2\": -0.8666666666666667}, {\"x1\": -1.0, \"x2\": -0.8666666666666667}, {\"x1\": 0.7333333333333334, \"x2\": 0.7333333333333334}, {\"x1\": 0.6000000000000001, \"x2\": 0.6000000000000001}, {\"x1\": 0.6000000000000001, \"x2\": 0.7333333333333334}, {\"x1\": -0.19999999999999996, \"x2\": 0.06666666666666665}, {\"x1\": 0.6000000000000001, \"x2\": 0.19999999999999996}, {\"x1\": -0.19999999999999996, \"x2\": 0.33333333333333326}, {\"x1\": -0.19999999999999996, \"x2\": -0.06666666666666665}, {\"x1\": -0.6, \"x2\": -0.6}, {\"x1\": -0.7333333333333334, \"x2\": 0.7333333333333334}, {\"x1\": 0.33333333333333326, \"x2\": 0.33333333333333326}, {\"x1\": 0.06666666666666665, \"x2\": -0.7333333333333334}, {\"x1\": 0.33333333333333326, \"x2\": 0.46666666666666656}, {\"x1\": 0.7333333333333334, \"x2\": 0.46666666666666656}, {\"x1\": 0.19999999999999996, \"x2\": 0.06666666666666665}, {\"x1\": 0.06666666666666665, \"x2\": 0.6000000000000001}, {\"x1\": 0.06666666666666665, \"x2\": 0.6000000000000001}, {\"x1\": 0.7333333333333334, \"x2\": 0.7333333333333334}, {\"x1\": 0.7333333333333334, \"x2\": 0.7333333333333334}, {\"x1\": 0.19999999999999996, \"x2\": 0.33333333333333326}, {\"x1\": 0.8666666666666667, \"x2\": 0.19999999999999996}, {\"x1\": -1.0, \"x2\": -1.0}, {\"x1\": 0.19999999999999996, \"x2\": 0.33333333333333326}, {\"x1\": -1.0, \"x2\": -0.19999999999999996}, {\"x1\": 1.0, \"x2\": 0.19999999999999996}, {\"x1\": -0.19999999999999996, \"x2\": 0.8666666666666667}, {\"x1\": 0.33333333333333326, \"x2\": 0.6000000000000001}, {\"x1\": 0.7333333333333334, \"x2\": -1.0}, {\"x1\": 0.33333333333333326, \"x2\": 0.19999999999999996}, {\"x1\": -0.7333333333333334, \"x2\": -0.7333333333333334}, {\"x1\": -0.19999999999999996, \"x2\": -0.6}, {\"x1\": 0.7333333333333334, \"x2\": 0.8666666666666667}, {\"x1\": -0.19999999999999996, \"x2\": 0.06666666666666665}, {\"x1\": 0.33333333333333326, \"x2\": 0.33333333333333326}, {\"x1\": -0.7333333333333334, \"x2\": -1.0}, {\"x1\": 0.06666666666666665, \"x2\": -0.8666666666666667}, {\"x1\": 0.8666666666666667, \"x2\": 0.7333333333333334}, {\"x1\": 0.6000000000000001, \"x2\": 0.46666666666666656}, {\"x1\": -1.0, \"x2\": -1.0}, {\"x1\": 0.33333333333333326, \"x2\": 0.33333333333333326}, {\"x1\": -1.0, \"x2\": -1.0}, {\"x1\": -0.19999999999999996, \"x2\": 0.19999999999999996}, {\"x1\": -1.0, \"x2\": -1.0}, {\"x1\": -0.8666666666666667, \"x2\": 1.0}, {\"x1\": 0.46666666666666656, \"x2\": 0.33333333333333326}, {\"x1\": -0.33333333333333337, \"x2\": 0.6000000000000001}, {\"x1\": 0.6000000000000001, \"x2\": 0.19999999999999996}, {\"x1\": 0.33333333333333326, \"x2\": 0.33333333333333326}, {\"x1\": 1.0, \"x2\": -0.6}, {\"x1\": -0.19999999999999996, \"x2\": -0.06666666666666665}, {\"x1\": 0.46666666666666656, \"x2\": 0.46666666666666656}, {\"x1\": -1.0, \"x2\": -0.8666666666666667}, {\"x1\": -0.19999999999999996, \"x2\": -0.4666666666666667}, {\"x1\": -0.33333333333333337, \"x2\": -0.33333333333333337}, {\"x1\": -0.7333333333333334, \"x2\": 1.0}, {\"x1\": 0.6000000000000001, \"x2\": 0.7333333333333334}, {\"x1\": 0.6000000000000001, \"x2\": 0.7333333333333334}, {\"x1\": -0.8666666666666667, \"x2\": 1.0}, {\"x1\": 0.19999999999999996, \"x2\": 0.46666666666666656}, {\"x1\": -0.06666666666666665, \"x2\": -0.06666666666666665}, {\"x1\": -0.8666666666666667, \"x2\": -0.19999999999999996}, {\"x1\": 1.0, \"x2\": -0.8666666666666667}, {\"x1\": 0.6000000000000001, \"x2\": 0.7333333333333334}, {\"x1\": 0.33333333333333326, \"x2\": 0.33333333333333326}, {\"x1\": -0.33333333333333337, \"x2\": 0.33333333333333326}, {\"x1\": -0.33333333333333337, \"x2\": 0.19999999999999996}, {\"x1\": -0.19999999999999996, \"x2\": 0.46666666666666656}, {\"x1\": -0.7333333333333334, \"x2\": 0.19999999999999996}, {\"x1\": 0.06666666666666665, \"x2\": 0.6000000000000001}, {\"x1\": -0.19999999999999996, \"x2\": 0.33333333333333326}, {\"x1\": -0.6, \"x2\": 1.0}, {\"x1\": 0.19999999999999996, \"x2\": -0.8666666666666667}, {\"x1\": -0.33333333333333337, \"x2\": 0.19999999999999996}, {\"x1\": 0.6000000000000001, \"x2\": 0.6000000000000001}, {\"x1\": 0.46666666666666656, \"x2\": 0.7333333333333334}, {\"x1\": 0.46666666666666656, \"x2\": 0.33333333333333326}, {\"x1\": 1.0, \"x2\": -0.6}, {\"x1\": -0.33333333333333337, \"x2\": 0.33333333333333326}, {\"x1\": -1.0, \"x2\": -1.0}, {\"x1\": 0.6000000000000001, \"x2\": -0.8666666666666667}, {\"x1\": 0.33333333333333326, \"x2\": 0.8666666666666667}, {\"x1\": 0.46666666666666656, \"x2\": 0.19999999999999996}, {\"x1\": -0.33333333333333337, \"x2\": -0.06666666666666665}, {\"x1\": 0.8666666666666667, \"x2\": 0.7333333333333334}, {\"x1\": -0.33333333333333337, \"x2\": -0.19999999999999996}, {\"x1\": 0.8666666666666667, \"x2\": 0.7333333333333334}, {\"x1\": -0.4666666666666667, \"x2\": -0.7333333333333334}, {\"x1\": 0.46666666666666656, \"x2\": -0.33333333333333337}, {\"x1\": -0.33333333333333337, \"x2\": -0.33333333333333337}, {\"x1\": -0.19999999999999996, \"x2\": 0.7333333333333334}, {\"x1\": -0.06666666666666665, \"x2\": 0.33333333333333326}, {\"x1\": 0.7333333333333334, \"x2\": 0.7333333333333334}, {\"x1\": 0.19999999999999996, \"x2\": 0.19999999999999996}, {\"x1\": 0.19999999999999996, \"x2\": 0.46666666666666656}, {\"x1\": -1.0, \"x2\": -0.33333333333333337}, {\"x1\": -0.4666666666666667, \"x2\": 0.46666666666666656}, {\"x1\": -0.06666666666666665, \"x2\": -1.0}, {\"x1\": -0.33333333333333337, \"x2\": 0.19999999999999996}, {\"x1\": -0.7333333333333334, \"x2\": -0.7333333333333334}, {\"x1\": -0.19999999999999996, \"x2\": 0.7333333333333334}, {\"x1\": 0.6000000000000001, \"x2\": 0.46666666666666656}, {\"x1\": 0.8666666666666667, \"x2\": 0.7333333333333334}, {\"x1\": 0.7333333333333334, \"x2\": 0.7333333333333334}, {\"x1\": 0.7333333333333334, \"x2\": 0.46666666666666656}, {\"x1\": 0.06666666666666665, \"x2\": 0.33333333333333326}, {\"x1\": 0.6000000000000001, \"x2\": -0.8666666666666667}, {\"x1\": -0.33333333333333337, \"x2\": -0.33333333333333337}, {\"x1\": -0.6, \"x2\": -0.7333333333333334}, {\"x1\": 0.7333333333333334, \"x2\": 0.33333333333333326}, {\"x1\": 0.19999999999999996, \"x2\": 0.33333333333333326}, {\"x1\": 0.33333333333333326, \"x2\": -0.8666666666666667}, {\"x1\": -0.8666666666666667, \"x2\": 0.6000000000000001}, {\"x1\": -0.7333333333333334, \"x2\": 1.0}, {\"x1\": 0.7333333333333334, \"x2\": 0.6000000000000001}, {\"x1\": -0.33333333333333337, \"x2\": 0.46666666666666656}, {\"x1\": -0.6, \"x2\": -0.7333333333333334}, {\"x1\": -0.19999999999999996, \"x2\": 0.33333333333333326}, {\"x1\": -0.33333333333333337, \"x2\": 0.6000000000000001}, {\"x1\": -0.19999999999999996, \"x2\": 0.6000000000000001}, {\"x1\": 0.7333333333333334, \"x2\": 0.8666666666666667}, {\"x1\": 0.06666666666666665, \"x2\": 0.33333333333333326}, {\"x1\": -0.33333333333333337, \"x2\": -0.06666666666666665}, {\"x1\": 0.8666666666666667, \"x2\": -0.19999999999999996}, {\"x1\": -0.33333333333333337, \"x2\": -1.0}, {\"x1\": 0.7333333333333334, \"x2\": 0.6000000000000001}, {\"x1\": -0.33333333333333337, \"x2\": 0.06666666666666665}, {\"x1\": 0.46666666666666656, \"x2\": 0.19999999999999996}, {\"x1\": 0.8666666666666667, \"x2\": 0.7333333333333334}, {\"x1\": -0.19999999999999996, \"x2\": -0.06666666666666665}, {\"x1\": 0.19999999999999996, \"x2\": 0.6000000000000001}, {\"x1\": 1.0, \"x2\": -0.6}, {\"x1\": 0.7333333333333334, \"x2\": 0.7333333333333334}, {\"x1\": 0.19999999999999996, \"x2\": -0.7333333333333334}, {\"x1\": 1.0, \"x2\": 0.19999999999999996}, {\"x1\": 0.19999999999999996, \"x2\": -0.19999999999999996}, {\"x1\": 0.7333333333333334, \"x2\": 0.19999999999999996}, {\"x1\": -0.6, \"x2\": 0.8666666666666667}, {\"x1\": 0.7333333333333334, \"x2\": 0.7333333333333334}, {\"x1\": -0.19999999999999996, \"x2\": 0.33333333333333326}, {\"x1\": -0.4666666666666667, \"x2\": 0.46666666666666656}, {\"x1\": 0.19999999999999996, \"x2\": 0.7333333333333334}, {\"x1\": -0.33333333333333337, \"x2\": 0.46666666666666656}, {\"x1\": 0.19999999999999996, \"x2\": 0.8666666666666667}, {\"x1\": -0.7333333333333334, \"x2\": -0.7333333333333334}, {\"x1\": -0.33333333333333337, \"x2\": 0.33333333333333326}, {\"x1\": 0.46666666666666656, \"x2\": 0.46666666666666656}, {\"x1\": -0.4666666666666667, \"x2\": -0.4666666666666667}, {\"x1\": -0.33333333333333337, \"x2\": 0.33333333333333326}, {\"x1\": 0.33333333333333326, \"x2\": -0.4666666666666667}, {\"x1\": 0.6000000000000001, \"x2\": 0.6000000000000001}, {\"x1\": 0.33333333333333326, \"x2\": 0.33333333333333326}, {\"x1\": -1.0, \"x2\": -0.19999999999999996}, {\"x1\": 0.46666666666666656, \"x2\": -0.8666666666666667}, {\"x1\": -0.8666666666666667, \"x2\": 0.6000000000000001}, {\"x1\": 0.46666666666666656, \"x2\": 0.33333333333333326}, {\"x1\": -0.19999999999999996, \"x2\": -0.8666666666666667}, {\"x1\": -0.06666666666666665, \"x2\": -1.0}, {\"x1\": 0.06666666666666665, \"x2\": 0.46666666666666656}, {\"x1\": -0.7333333333333334, \"x2\": -0.7333333333333334}, {\"x1\": -0.33333333333333337, \"x2\": -1.0}, {\"x1\": -0.33333333333333337, \"x2\": 0.7333333333333334}, {\"x1\": -0.8666666666666667, \"x2\": 0.46666666666666656}, {\"x1\": 0.7333333333333334, \"x2\": -0.06666666666666665}, {\"x1\": 0.7333333333333334, \"x2\": 0.7333333333333334}, {\"x1\": 0.19999999999999996, \"x2\": 0.46666666666666656}, {\"x1\": -0.19999999999999996, \"x2\": 0.46666666666666656}, {\"x1\": 1.0, \"x2\": -0.4666666666666667}, {\"x1\": 0.6000000000000001, \"x2\": 0.6000000000000001}, {\"x1\": 0.19999999999999996, \"x2\": -0.4666666666666667}, {\"x1\": 0.06666666666666665, \"x2\": 0.46666666666666656}, {\"x1\": 0.19999999999999996, \"x2\": 1.0}, {\"x1\": 0.46666666666666656, \"x2\": -0.8666666666666667}, {\"x1\": -0.4666666666666667, \"x2\": 0.6000000000000001}, {\"x1\": 0.6000000000000001, \"x2\": 0.7333333333333334}, {\"x1\": 0.8666666666666667, \"x2\": 0.7333333333333334}, {\"x1\": 0.06666666666666665, \"x2\": 0.6000000000000001}, {\"x1\": -0.6, \"x2\": 0.19999999999999996}, {\"x1\": 0.6000000000000001, \"x2\": 0.19999999999999996}, {\"x1\": 0.33333333333333326, \"x2\": -0.8666666666666667}, {\"x1\": 0.19999999999999996, \"x2\": 0.46666666666666656}, {\"x1\": 0.8666666666666667, \"x2\": -1.0}, {\"x1\": 0.6000000000000001, \"x2\": 0.19999999999999996}, {\"x1\": -0.6, \"x2\": 0.7333333333333334}, {\"x1\": 0.46666666666666656, \"x2\": 0.33333333333333326}, {\"x1\": 0.7333333333333334, \"x2\": 0.8666666666666667}, {\"x1\": -0.33333333333333337, \"x2\": -0.06666666666666665}, {\"x1\": 1.0, \"x2\": -1.0}, {\"x1\": 0.7333333333333334, \"x2\": 0.7333333333333334}, {\"x1\": -0.8666666666666667, \"x2\": -0.06666666666666665}, {\"x1\": -0.06666666666666665, \"x2\": 0.33333333333333326}, {\"x1\": -0.19999999999999996, \"x2\": 0.33333333333333326}, {\"x1\": 0.7333333333333334, \"x2\": 0.7333333333333334}, {\"x1\": -0.33333333333333337, \"x2\": -0.06666666666666665}, {\"x1\": -0.06666666666666665, \"x2\": -1.0}, {\"x1\": -0.33333333333333337, \"x2\": -0.06666666666666665}, {\"x1\": -0.19999999999999996, \"x2\": 0.6000000000000001}, {\"x1\": 0.19999999999999996, \"x2\": -0.6}, {\"x1\": 0.7333333333333334, \"x2\": 0.6000000000000001}, {\"x1\": -0.33333333333333337, \"x2\": 0.33333333333333326}, {\"x1\": -0.4666666666666667, \"x2\": 0.7333333333333334}, {\"x1\": 0.19999999999999996, \"x2\": -0.19999999999999996}, {\"x1\": 0.6000000000000001, \"x2\": -0.8666666666666667}, {\"x1\": 0.6000000000000001, \"x2\": -0.8666666666666667}, {\"x1\": 0.19999999999999996, \"x2\": 0.46666666666666656}, {\"x1\": 0.7333333333333334, \"x2\": 0.33333333333333326}, {\"x1\": 0.33333333333333326, \"x2\": 0.8666666666666667}, {\"x1\": -0.06666666666666665, \"x2\": 0.33333333333333326}, {\"x1\": -0.19999999999999996, \"x2\": -0.06666666666666665}, {\"x1\": 1.0, \"x2\": 0.19999999999999996}, {\"x1\": 0.8666666666666667, \"x2\": -1.0}, {\"x1\": 0.46666666666666656, \"x2\": -0.06666666666666665}, {\"x1\": -0.33333333333333337, \"x2\": 0.8666666666666667}, {\"x1\": 0.46666666666666656, \"x2\": -0.7333333333333334}, {\"x1\": -0.8666666666666667, \"x2\": 0.33333333333333326}, {\"x1\": 0.6000000000000001, \"x2\": 0.33333333333333326}, {\"x1\": 0.7333333333333334, \"x2\": 0.7333333333333334}, {\"x1\": 0.8666666666666667, \"x2\": 0.7333333333333334}, {\"x1\": 0.19999999999999996, \"x2\": 0.7333333333333334}, {\"x1\": 0.33333333333333326, \"x2\": 0.33333333333333326}, {\"x1\": 0.46666666666666656, \"x2\": 0.46666666666666656}, {\"x1\": 0.06666666666666665, \"x2\": 0.46666666666666656}, {\"x1\": 0.19999999999999996, \"x2\": 0.33333333333333326}, {\"x1\": 1.0, \"x2\": 0.33333333333333326}, {\"x1\": 0.6000000000000001, \"x2\": 0.46666666666666656}, {\"x1\": -0.19999999999999996, \"x2\": 0.33333333333333326}, {\"x1\": 0.19999999999999996, \"x2\": 0.33333333333333326}, {\"x1\": -1.0, \"x2\": -1.0}, {\"x1\": -1.0, \"x2\": -0.4666666666666667}, {\"x1\": -0.33333333333333337, \"x2\": 0.33333333333333326}, {\"x1\": 0.19999999999999996, \"x2\": 0.33333333333333326}, {\"x1\": -0.8666666666666667, \"x2\": -1.0}, {\"x1\": -1.0, \"x2\": -1.0}, {\"x1\": -0.8666666666666667, \"x2\": 0.46666666666666656}, {\"x1\": 1.0, \"x2\": 0.46666666666666656}, {\"x1\": 0.7333333333333334, \"x2\": 0.6000000000000001}, {\"x1\": 0.8666666666666667, \"x2\": 0.6000000000000001}, {\"x1\": -0.06666666666666665, \"x2\": 0.33333333333333326}, {\"x1\": -0.33333333333333337, \"x2\": 0.7333333333333334}, {\"x1\": -1.0, \"x2\": -0.19999999999999996}, {\"x1\": -0.4666666666666667, \"x2\": 0.33333333333333326}, {\"x1\": 0.06666666666666665, \"x2\": 0.33333333333333326}, {\"x1\": -0.6, \"x2\": 1.0}, {\"x1\": -1.0, \"x2\": -0.33333333333333337}, {\"x1\": -0.19999999999999996, \"x2\": 0.7333333333333334}, {\"x1\": -0.7333333333333334, \"x2\": -0.7333333333333334}, {\"x1\": 0.6000000000000001, \"x2\": 0.33333333333333326}, {\"x1\": 0.8666666666666667, \"x2\": -0.19999999999999996}, {\"x1\": -0.6, \"x2\": -0.33333333333333337}, {\"x1\": -0.8666666666666667, \"x2\": -1.0}, {\"x1\": -1.0, \"x2\": -1.0}, {\"x1\": -1.0, \"x2\": -0.33333333333333337}, {\"x1\": -0.33333333333333337, \"x2\": -0.19999999999999996}, {\"x1\": 0.7333333333333334, \"x2\": 0.6000000000000001}, {\"x1\": 1.0, \"x2\": 0.19999999999999996}, {\"x1\": 1.0, \"x2\": 0.33333333333333326}, {\"x1\": -0.7333333333333334, \"x2\": -0.7333333333333334}, {\"x1\": 0.33333333333333326, \"x2\": -0.33333333333333337}, {\"x1\": 0.06666666666666665, \"x2\": 0.19999999999999996}, {\"x1\": 0.46666666666666656, \"x2\": 0.46666666666666656}, {\"x1\": 0.8666666666666667, \"x2\": -0.06666666666666665}, {\"x1\": -0.06666666666666665, \"x2\": 0.19999999999999996}, {\"x1\": 0.33333333333333326, \"x2\": 0.33333333333333326}, {\"x1\": 0.7333333333333334, \"x2\": 0.6000000000000001}, {\"x1\": -0.19999999999999996, \"x2\": 0.7333333333333334}, {\"x1\": -0.06666666666666665, \"x2\": -1.0}, {\"x1\": -0.4666666666666667, \"x2\": 0.33333333333333326}, {\"x1\": 0.6000000000000001, \"x2\": 0.46666666666666656}, {\"x1\": -0.8666666666666667, \"x2\": -0.06666666666666665}, {\"x1\": -0.19999999999999996, \"x2\": 0.06666666666666665}, {\"x1\": -0.7333333333333334, \"x2\": 0.7333333333333334}, {\"x1\": 0.33333333333333326, \"x2\": 0.33333333333333326}, {\"x1\": 0.33333333333333326, \"x2\": 0.46666666666666656}, {\"x1\": -0.19999999999999996, \"x2\": -0.06666666666666665}, {\"x1\": 0.6000000000000001, \"x2\": 0.19999999999999996}, {\"x1\": -0.06666666666666665, \"x2\": 0.06666666666666665}, {\"x1\": -1.0, \"x2\": -0.33333333333333337}, {\"x1\": -0.06666666666666665, \"x2\": -1.0}, {\"x1\": -0.06666666666666665, \"x2\": 0.6000000000000001}, {\"x1\": 0.19999999999999996, \"x2\": 0.46666666666666656}, {\"x1\": 0.8666666666666667, \"x2\": 0.7333333333333334}, {\"x1\": 0.06666666666666665, \"x2\": 0.46666666666666656}, {\"x1\": -0.19999999999999996, \"x2\": -0.8666666666666667}, {\"x1\": -1.0, \"x2\": -1.0}, {\"x1\": 0.8666666666666667, \"x2\": 0.7333333333333334}, {\"x1\": 0.8666666666666667, \"x2\": 0.7333333333333334}, {\"x1\": 0.06666666666666665, \"x2\": 0.33333333333333326}, {\"x1\": 0.46666666666666656, \"x2\": 0.46666666666666656}, {\"x1\": 0.33333333333333326, \"x2\": -0.7333333333333334}, {\"x1\": 0.33333333333333326, \"x2\": 0.19999999999999996}, {\"x1\": 0.33333333333333326, \"x2\": -0.06666666666666665}, {\"x1\": 0.19999999999999996, \"x2\": 0.33333333333333326}, {\"x1\": 0.8666666666666667, \"x2\": 0.8666666666666667}, {\"x1\": -0.8666666666666667, \"x2\": -0.8666666666666667}, {\"x1\": 0.46666666666666656, \"x2\": 0.33333333333333326}, {\"x1\": -0.06666666666666665, \"x2\": -0.7333333333333334}, {\"x1\": 0.06666666666666665, \"x2\": 0.33333333333333326}, {\"x1\": 0.19999999999999996, \"x2\": 0.46666666666666656}, {\"x1\": -0.7333333333333334, \"x2\": 0.33333333333333326}, {\"x1\": -0.06666666666666665, \"x2\": 0.6000000000000001}, {\"x1\": 1.0, \"x2\": -0.4666666666666667}, {\"x1\": 0.19999999999999996, \"x2\": 0.33333333333333326}, {\"x1\": -0.06666666666666665, \"x2\": -1.0}, {\"x1\": 0.06666666666666665, \"x2\": 0.46666666666666656}, {\"x1\": 0.8666666666666667, \"x2\": 0.06666666666666665}, {\"x1\": -0.4666666666666667, \"x2\": -0.6}, {\"x1\": 1.0, \"x2\": -0.19999999999999996}, {\"x1\": 0.33333333333333326, \"x2\": 0.33333333333333326}, {\"x1\": 0.33333333333333326, \"x2\": 0.19999999999999996}, {\"x1\": -0.7333333333333334, \"x2\": -0.7333333333333334}, {\"x1\": 0.6000000000000001, \"x2\": -0.19999999999999996}, {\"x1\": 0.46666666666666656, \"x2\": -0.8666666666666667}, {\"x1\": 0.19999999999999996, \"x2\": 0.33333333333333326}, {\"x1\": 0.33333333333333326, \"x2\": 0.6000000000000001}, {\"x1\": 0.33333333333333326, \"x2\": 0.33333333333333326}, {\"x1\": 0.19999999999999996, \"x2\": 0.46666666666666656}, {\"x1\": 0.7333333333333334, \"x2\": 0.33333333333333326}, {\"x1\": 0.46666666666666656, \"x2\": 0.19999999999999996}, {\"x1\": -0.33333333333333337, \"x2\": 0.7333333333333334}, {\"x1\": 0.7333333333333334, \"x2\": 0.8666666666666667}, {\"x1\": 0.19999999999999996, \"x2\": 0.33333333333333326}, {\"x1\": -0.33333333333333337, \"x2\": 0.33333333333333326}, {\"x1\": -0.7333333333333334, \"x2\": 1.0}, {\"x1\": -0.7333333333333334, \"x2\": 0.8666666666666667}, {\"x1\": 0.33333333333333326, \"x2\": -0.8666666666666667}, {\"x1\": -0.19999999999999996, \"x2\": 0.06666666666666665}, {\"x1\": 0.7333333333333334, \"x2\": 0.8666666666666667}, {\"x1\": -0.8666666666666667, \"x2\": -0.8666666666666667}, {\"x1\": 0.06666666666666665, \"x2\": -1.0}, {\"x1\": -0.33333333333333337, \"x2\": -0.33333333333333337}, {\"x1\": 0.7333333333333334, \"x2\": 0.6000000000000001}, {\"x1\": 0.8666666666666667, \"x2\": 0.6000000000000001}, {\"x1\": 0.8666666666666667, \"x2\": 0.33333333333333326}, {\"x1\": 0.46666666666666656, \"x2\": 0.33333333333333326}, {\"x1\": -0.06666666666666665, \"x2\": 0.7333333333333334}, {\"x1\": 0.6000000000000001, \"x2\": 0.6000000000000001}, {\"x1\": -0.19999999999999996, \"x2\": 0.7333333333333334}, {\"x1\": -1.0, \"x2\": -0.6}, {\"x1\": -1.0, \"x2\": 0.8666666666666667}, {\"x1\": 0.8666666666666667, \"x2\": 0.33333333333333326}, {\"x1\": -1.0, \"x2\": -0.33333333333333337}, {\"x1\": 0.33333333333333326, \"x2\": -0.19999999999999996}, {\"x1\": -0.4666666666666667, \"x2\": 0.8666666666666667}, {\"x1\": -0.33333333333333337, \"x2\": -1.0}, {\"x1\": -0.33333333333333337, \"x2\": 0.06666666666666665}, {\"x1\": -0.33333333333333337, \"x2\": 0.6000000000000001}, {\"x1\": -0.06666666666666665, \"x2\": 0.33333333333333326}, {\"x1\": -0.8666666666666667, \"x2\": -0.4666666666666667}, {\"x1\": 1.0, \"x2\": -0.6}, {\"x1\": -0.33333333333333337, \"x2\": -0.33333333333333337}, {\"x1\": 0.7333333333333334, \"x2\": 0.7333333333333334}, {\"x1\": -0.8666666666666667, \"x2\": 1.0}, {\"x1\": -0.8666666666666667, \"x2\": -0.33333333333333337}, {\"x1\": 0.6000000000000001, \"x2\": 0.46666666666666656}, {\"x1\": -0.19999999999999996, \"x2\": 0.19999999999999996}, {\"x1\": -0.33333333333333337, \"x2\": -0.8666666666666667}, {\"x1\": 0.7333333333333334, \"x2\": 0.7333333333333334}, {\"x1\": 0.19999999999999996, \"x2\": 0.7333333333333334}, {\"x1\": -0.8666666666666667, \"x2\": 0.46666666666666656}, {\"x1\": -0.19999999999999996, \"x2\": 0.46666666666666656}, {\"x1\": -0.6, \"x2\": 0.7333333333333334}, {\"x1\": 0.8666666666666667, \"x2\": 0.8666666666666667}, {\"x1\": 0.19999999999999996, \"x2\": -0.8666666666666667}, {\"x1\": -0.19999999999999996, \"x2\": 0.7333333333333334}, {\"x1\": 0.7333333333333334, \"x2\": 0.33333333333333326}, {\"x1\": 0.7333333333333334, \"x2\": 0.7333333333333334}, {\"x1\": -0.19999999999999996, \"x2\": 0.19999999999999996}, {\"x1\": 0.7333333333333334, \"x2\": 0.33333333333333326}, {\"x1\": -0.19999999999999996, \"x2\": 0.19999999999999996}, {\"x1\": 0.46666666666666656, \"x2\": -0.7333333333333334}, {\"x1\": 0.8666666666666667, \"x2\": 0.7333333333333334}, {\"x1\": 0.8666666666666667, \"x2\": 0.46666666666666656}, {\"x1\": 0.8666666666666667, \"x2\": -0.19999999999999996}, {\"x1\": 0.7333333333333334, \"x2\": 0.06666666666666665}, {\"x1\": 0.46666666666666656, \"x2\": -0.19999999999999996}, {\"x1\": 0.8666666666666667, \"x2\": -0.19999999999999996}, {\"x1\": -0.33333333333333337, \"x2\": 0.33333333333333326}, {\"x1\": -0.06666666666666665, \"x2\": -0.6}, {\"x1\": 0.46666666666666656, \"x2\": -0.7333333333333334}, {\"x1\": 0.8666666666666667, \"x2\": 0.8666666666666667}, {\"x1\": 0.6000000000000001, \"x2\": 0.6000000000000001}, {\"x1\": 0.7333333333333334, \"x2\": 0.7333333333333334}, {\"x1\": -0.4666666666666667, \"x2\": -0.8666666666666667}, {\"x1\": -0.19999999999999996, \"x2\": 0.19999999999999996}, {\"x1\": -0.19999999999999996, \"x2\": -0.8666666666666667}, {\"x1\": -1.0, \"x2\": -1.0}, {\"x1\": -0.8666666666666667, \"x2\": 1.0}, {\"x1\": -1.0, \"x2\": -1.0}, {\"x1\": 0.19999999999999996, \"x2\": 0.33333333333333326}, {\"x1\": -1.0, \"x2\": -1.0}, {\"x1\": 0.8666666666666667, \"x2\": 0.7333333333333334}, {\"x1\": -0.7333333333333334, \"x2\": 1.0}, {\"x1\": -1.0, \"x2\": -1.0}, {\"x1\": -0.06666666666666665, \"x2\": 0.46666666666666656}, {\"x1\": 0.46666666666666656, \"x2\": 0.33333333333333326}, {\"x1\": 0.19999999999999996, \"x2\": 0.33333333333333326}, {\"x1\": 0.33333333333333326, \"x2\": 0.33333333333333326}, {\"x1\": -0.33333333333333337, \"x2\": 0.7333333333333334}, {\"x1\": -0.4666666666666667, \"x2\": 0.06666666666666665}, {\"x1\": -0.06666666666666665, \"x2\": 0.06666666666666665}, {\"x1\": 0.46666666666666656, \"x2\": 0.6000000000000001}, {\"x1\": 0.19999999999999996, \"x2\": 0.33333333333333326}, {\"x1\": -0.33333333333333337, \"x2\": -0.06666666666666665}, {\"x1\": 0.6000000000000001, \"x2\": 0.6000000000000001}, {\"x1\": 0.6000000000000001, \"x2\": 0.7333333333333334}, {\"x1\": 0.7333333333333334, \"x2\": 0.7333333333333334}, {\"x1\": 0.06666666666666665, \"x2\": 0.19999999999999996}, {\"x1\": 1.0, \"x2\": 0.06666666666666665}, {\"x1\": -0.06666666666666665, \"x2\": 0.6000000000000001}, {\"x1\": -0.4666666666666667, \"x2\": 0.33333333333333326}, {\"x1\": 0.19999999999999996, \"x2\": 0.33333333333333326}, {\"x1\": -0.4666666666666667, \"x2\": 0.33333333333333326}, {\"x1\": -0.06666666666666665, \"x2\": 0.33333333333333326}, {\"x1\": 0.7333333333333334, \"x2\": 0.7333333333333334}, {\"x1\": -0.6, \"x2\": -1.0}, {\"x1\": -0.19999999999999996, \"x2\": -0.4666666666666667}, {\"x1\": -0.33333333333333337, \"x2\": 0.33333333333333326}, {\"x1\": 0.8666666666666667, \"x2\": 0.33333333333333326}, {\"x1\": 0.7333333333333334, \"x2\": 0.6000000000000001}, {\"x1\": 0.7333333333333334, \"x2\": 0.7333333333333334}, {\"x1\": 0.6000000000000001, \"x2\": 0.7333333333333334}, {\"x1\": 0.46666666666666656, \"x2\": 0.46666666666666656}, {\"x1\": -0.33333333333333337, \"x2\": -0.19999999999999996}, {\"x1\": -0.19999999999999996, \"x2\": 0.46666666666666656}, {\"x1\": 0.46666666666666656, \"x2\": -0.33333333333333337}, {\"x1\": 0.06666666666666665, \"x2\": 0.19999999999999996}, {\"x1\": -0.7333333333333334, \"x2\": 0.33333333333333326}, {\"x1\": 0.46666666666666656, \"x2\": -0.06666666666666665}, {\"x1\": -0.33333333333333337, \"x2\": 0.46666666666666656}, {\"x1\": 0.06666666666666665, \"x2\": -0.7333333333333334}, {\"x1\": 0.19999999999999996, \"x2\": -0.7333333333333334}, {\"x1\": -0.19999999999999996, \"x2\": -0.06666666666666665}, {\"x1\": 0.7333333333333334, \"x2\": 0.7333333333333334}, {\"x1\": -0.8666666666666667, \"x2\": -0.19999999999999996}, {\"x1\": 0.7333333333333334, \"x2\": 0.8666666666666667}, {\"x1\": 0.6000000000000001, \"x2\": 0.7333333333333334}, {\"x1\": 0.8666666666666667, \"x2\": 0.6000000000000001}, {\"x1\": -0.19999999999999996, \"x2\": 0.6000000000000001}, {\"x1\": -1.0, \"x2\": -1.0}, {\"x1\": 0.6000000000000001, \"x2\": 0.7333333333333334}, {\"x1\": -1.0, \"x2\": -1.0}, {\"x1\": 0.8666666666666667, \"x2\": 0.7333333333333334}, {\"x1\": -0.33333333333333337, \"x2\": 0.8666666666666667}, {\"x1\": 0.33333333333333326, \"x2\": 0.33333333333333326}, {\"x1\": 0.7333333333333334, \"x2\": 0.7333333333333334}, {\"x1\": -0.33333333333333337, \"x2\": 0.06666666666666665}, {\"x1\": 0.33333333333333326, \"x2\": 0.33333333333333326}, {\"x1\": 0.6000000000000001, \"x2\": 1.0}, {\"x1\": 0.06666666666666665, \"x2\": -0.4666666666666667}, {\"x1\": -0.06666666666666665, \"x2\": 0.6000000000000001}, {\"x1\": 0.8666666666666667, \"x2\": -1.0}, {\"x1\": -0.19999999999999996, \"x2\": -0.6}, {\"x1\": -0.4666666666666667, \"x2\": -1.0}, {\"x1\": 0.33333333333333326, \"x2\": 1.0}, {\"x1\": 1.0, \"x2\": -0.8666666666666667}, {\"x1\": -0.06666666666666665, \"x2\": 0.6000000000000001}, {\"x1\": -0.19999999999999996, \"x2\": 0.06666666666666665}, {\"x1\": 0.19999999999999996, \"x2\": 0.19999999999999996}, {\"x1\": -0.33333333333333337, \"x2\": -0.06666666666666665}, {\"x1\": -1.0, \"x2\": -0.33333333333333337}, {\"x1\": 0.06666666666666665, \"x2\": 0.33333333333333326}, {\"x1\": -0.06666666666666665, \"x2\": -0.06666666666666665}, {\"x1\": 0.19999999999999996, \"x2\": 0.19999999999999996}, {\"x1\": -0.19999999999999996, \"x2\": 0.46666666666666656}, {\"x1\": -0.33333333333333337, \"x2\": 0.7333333333333334}, {\"x1\": 0.33333333333333326, \"x2\": 0.33333333333333326}, {\"x1\": 0.46666666666666656, \"x2\": -0.8666666666666667}, {\"x1\": -0.33333333333333337, \"x2\": 0.19999999999999996}, {\"x1\": 0.8666666666666667, \"x2\": 0.7333333333333334}, {\"x1\": -0.33333333333333337, \"x2\": 0.7333333333333334}, {\"x1\": 0.46666666666666656, \"x2\": 0.33333333333333326}, {\"x1\": 0.33333333333333326, \"x2\": 0.33333333333333326}, {\"x1\": -0.33333333333333337, \"x2\": 0.6000000000000001}, {\"x1\": -0.06666666666666665, \"x2\": 0.19999999999999996}, {\"x1\": 0.33333333333333326, \"x2\": 0.46666666666666656}, {\"x1\": 0.19999999999999996, \"x2\": 0.19999999999999996}, {\"x1\": -0.7333333333333334, \"x2\": -0.19999999999999996}, {\"x1\": -1.0, \"x2\": -0.8666666666666667}, {\"x1\": 0.46666666666666656, \"x2\": 0.33333333333333326}, {\"x1\": 0.06666666666666665, \"x2\": 0.46666666666666656}, {\"x1\": 0.46666666666666656, \"x2\": 0.46666666666666656}, {\"x1\": 0.7333333333333334, \"x2\": 0.7333333333333334}, {\"x1\": 0.6000000000000001, \"x2\": 0.6000000000000001}, {\"x1\": -1.0, \"x2\": -1.0}, {\"x1\": 0.06666666666666665, \"x2\": 0.19999999999999996}, {\"x1\": -0.06666666666666665, \"x2\": -0.7333333333333334}, {\"x1\": -0.8666666666666667, \"x2\": 0.33333333333333326}, {\"x1\": 0.33333333333333326, \"x2\": 0.46666666666666656}, {\"x1\": -1.0, \"x2\": 0.7333333333333334}, {\"x1\": 0.6000000000000001, \"x2\": 0.46666666666666656}, {\"x1\": 0.33333333333333326, \"x2\": -1.0}, {\"x1\": 0.8666666666666667, \"x2\": -0.33333333333333337}, {\"x1\": 0.19999999999999996, \"x2\": 0.19999999999999996}, {\"x1\": 0.33333333333333326, \"x2\": 0.33333333333333326}, {\"x1\": -0.33333333333333337, \"x2\": 0.46666666666666656}, {\"x1\": -0.33333333333333337, \"x2\": 0.33333333333333326}, {\"x1\": 0.7333333333333334, \"x2\": 0.6000000000000001}, {\"x1\": 0.33333333333333326, \"x2\": 0.33333333333333326}, {\"x1\": 0.7333333333333334, \"x2\": 0.8666666666666667}, {\"x1\": -0.19999999999999996, \"x2\": 0.19999999999999996}, {\"x1\": 0.19999999999999996, \"x2\": 0.46666666666666656}, {\"x1\": -1.0, \"x2\": -1.0}, {\"x1\": 0.8666666666666667, \"x2\": 0.7333333333333334}, {\"x1\": -0.33333333333333337, \"x2\": -0.8666666666666667}, {\"x1\": -0.06666666666666665, \"x2\": 0.46666666666666656}, {\"x1\": -1.0, \"x2\": -1.0}, {\"x1\": -0.33333333333333337, \"x2\": -0.19999999999999996}, {\"x1\": -0.33333333333333337, \"x2\": 0.33333333333333326}, {\"x1\": 0.8666666666666667, \"x2\": 0.33333333333333326}, {\"x1\": 0.6000000000000001, \"x2\": 0.7333333333333334}, {\"x1\": -0.33333333333333337, \"x2\": 0.33333333333333326}, {\"x1\": 0.33333333333333326, \"x2\": 0.33333333333333326}, {\"x1\": -0.7333333333333334, \"x2\": 0.33333333333333326}, {\"x1\": -0.7333333333333334, \"x2\": -0.7333333333333334}, {\"x1\": 0.19999999999999996, \"x2\": 0.46666666666666656}, {\"x1\": 0.46666666666666656, \"x2\": 0.33333333333333326}, {\"x1\": 0.7333333333333334, \"x2\": 0.6000000000000001}, {\"x1\": -0.33333333333333337, \"x2\": 0.6000000000000001}, {\"x1\": -0.4666666666666667, \"x2\": 0.7333333333333334}, {\"x1\": -0.8666666666666667, \"x2\": -1.0}, {\"x1\": -0.19999999999999996, \"x2\": -0.06666666666666665}, {\"x1\": -0.19999999999999996, \"x2\": 0.33333333333333326}, {\"x1\": -0.7333333333333334, \"x2\": 0.33333333333333326}, {\"x1\": -1.0, \"x2\": -0.4666666666666667}, {\"x1\": 0.19999999999999996, \"x2\": 0.7333333333333334}, {\"x1\": -0.33333333333333337, \"x2\": 0.06666666666666665}, {\"x1\": -0.33333333333333337, \"x2\": 0.46666666666666656}, {\"x1\": 0.19999999999999996, \"x2\": 0.33333333333333326}, {\"x1\": 0.33333333333333326, \"x2\": 0.46666666666666656}, {\"x1\": 0.06666666666666665, \"x2\": 0.33333333333333326}, {\"x1\": -0.06666666666666665, \"x2\": 0.33333333333333326}, {\"x1\": 0.19999999999999996, \"x2\": 0.33333333333333326}, {\"x1\": 0.06666666666666665, \"x2\": 0.33333333333333326}, {\"x1\": 0.6000000000000001, \"x2\": -0.06666666666666665}, {\"x1\": 0.7333333333333334, \"x2\": 0.7333333333333334}, {\"x1\": -0.33333333333333337, \"x2\": 0.8666666666666667}, {\"x1\": 0.6000000000000001, \"x2\": 0.19999999999999996}, {\"x1\": -1.0, \"x2\": -1.0}, {\"x1\": 0.46666666666666656, \"x2\": 0.46666666666666656}, {\"x1\": 0.19999999999999996, \"x2\": 0.33333333333333326}, {\"x1\": 0.06666666666666665, \"x2\": -0.6}, {\"x1\": -0.8666666666666667, \"x2\": 0.7333333333333334}, {\"x1\": -0.19999999999999996, \"x2\": -0.8666666666666667}, {\"x1\": -0.19999999999999996, \"x2\": 0.46666666666666656}, {\"x1\": 0.19999999999999996, \"x2\": -0.06666666666666665}, {\"x1\": 0.6000000000000001, \"x2\": -1.0}, {\"x1\": -0.8666666666666667, \"x2\": 1.0}, {\"x1\": 0.19999999999999996, \"x2\": 0.19999999999999996}, {\"x1\": 0.7333333333333334, \"x2\": 0.46666666666666656}, {\"x1\": -0.33333333333333337, \"x2\": -0.06666666666666665}, {\"x1\": 0.19999999999999996, \"x2\": 0.46666666666666656}, {\"x1\": -0.33333333333333337, \"x2\": -0.8666666666666667}, {\"x1\": 0.06666666666666665, \"x2\": -0.33333333333333337}, {\"x1\": 0.33333333333333326, \"x2\": -0.19999999999999996}, {\"x1\": -0.6, \"x2\": -0.8666666666666667}, {\"x1\": 0.19999999999999996, \"x2\": 1.0}, {\"x1\": 0.46666666666666656, \"x2\": 0.46666666666666656}, {\"x1\": -0.33333333333333337, \"x2\": 0.33333333333333326}, {\"x1\": -0.33333333333333337, \"x2\": 0.46666666666666656}, {\"x1\": -0.33333333333333337, \"x2\": 0.19999999999999996}, {\"x1\": 0.8666666666666667, \"x2\": 0.19999999999999996}, {\"x1\": -0.19999999999999996, \"x2\": 0.6000000000000001}, {\"x1\": -0.06666666666666665, \"x2\": 0.33333333333333326}, {\"x1\": 0.8666666666666667, \"x2\": -0.19999999999999996}, {\"x1\": -0.7333333333333334, \"x2\": -0.7333333333333334}, {\"x1\": 0.8666666666666667, \"x2\": -0.19999999999999996}, {\"x1\": -0.06666666666666665, \"x2\": 0.33333333333333326}, {\"x1\": 0.33333333333333326, \"x2\": 0.06666666666666665}, {\"x1\": -0.7333333333333334, \"x2\": 0.33333333333333326}, {\"x1\": 0.46666666666666656, \"x2\": -0.4666666666666667}, {\"x1\": 0.46666666666666656, \"x2\": 0.33333333333333326}, {\"x1\": -0.19999999999999996, \"x2\": -0.4666666666666667}, {\"x1\": 0.7333333333333334, \"x2\": -0.19999999999999996}, {\"x1\": -0.33333333333333337, \"x2\": 0.19999999999999996}, {\"x1\": -0.19999999999999996, \"x2\": 0.06666666666666665}, {\"x1\": 0.6000000000000001, \"x2\": 0.46666666666666656}, {\"x1\": 0.46666666666666656, \"x2\": -0.8666666666666667}, {\"x1\": -0.19999999999999996, \"x2\": 0.46666666666666656}, {\"x1\": -0.6, \"x2\": 0.8666666666666667}, {\"x1\": -0.33333333333333337, \"x2\": 0.8666666666666667}, {\"x1\": 0.46666666666666656, \"x2\": 0.33333333333333326}, {\"x1\": -0.4666666666666667, \"x2\": -0.8666666666666667}, {\"x1\": 0.7333333333333334, \"x2\": 0.7333333333333334}, {\"x1\": -0.19999999999999996, \"x2\": -0.06666666666666665}, {\"x1\": 0.33333333333333326, \"x2\": 0.33333333333333326}, {\"x1\": 0.7333333333333334, \"x2\": 0.6000000000000001}, {\"x1\": 0.19999999999999996, \"x2\": 0.19999999999999996}, {\"x1\": 0.33333333333333326, \"x2\": 0.7333333333333334}, {\"x1\": 0.7333333333333334, \"x2\": 0.19999999999999996}, {\"x1\": -0.19999999999999996, \"x2\": 0.19999999999999996}, {\"x1\": -0.19999999999999996, \"x2\": 0.19999999999999996}, {\"x1\": 0.19999999999999996, \"x2\": 0.33333333333333326}, {\"x1\": -0.19999999999999996, \"x2\": -0.8666666666666667}, {\"x1\": -0.33333333333333337, \"x2\": -1.0}, {\"x1\": -0.33333333333333337, \"x2\": -1.0}, {\"x1\": -0.33333333333333337, \"x2\": -1.0}, {\"x1\": 0.19999999999999996, \"x2\": -0.19999999999999996}, {\"x1\": -0.19999999999999996, \"x2\": -0.8666666666666667}, {\"x1\": 1.0, \"x2\": 0.33333333333333326}, {\"x1\": 0.7333333333333334, \"x2\": 0.33333333333333326}, {\"x1\": -0.4666666666666667, \"x2\": 0.7333333333333334}, {\"x1\": -0.6, \"x2\": -0.06666666666666665}, {\"x1\": 0.46666666666666656, \"x2\": 0.33333333333333326}, {\"x1\": 0.7333333333333334, \"x2\": 0.33333333333333326}, {\"x1\": -0.06666666666666665, \"x2\": 0.6000000000000001}, {\"x1\": -0.33333333333333337, \"x2\": -0.33333333333333337}, {\"x1\": -0.33333333333333337, \"x2\": -0.19999999999999996}, {\"x1\": 0.19999999999999996, \"x2\": -0.19999999999999996}, {\"x1\": 0.7333333333333334, \"x2\": 0.8666666666666667}, {\"x1\": 1.0, \"x2\": -0.8666666666666667}, {\"x1\": 0.06666666666666665, \"x2\": -0.7333333333333334}, {\"x1\": -0.33333333333333337, \"x2\": 0.33333333333333326}, {\"x1\": 0.33333333333333326, \"x2\": 0.33333333333333326}, {\"x1\": 0.06666666666666665, \"x2\": 0.19999999999999996}, {\"x1\": 0.19999999999999996, \"x2\": 0.46666666666666656}, {\"x1\": 0.7333333333333334, \"x2\": 0.33333333333333326}, {\"x1\": 0.33333333333333326, \"x2\": 0.46666666666666656}, {\"x1\": 0.06666666666666665, \"x2\": 0.06666666666666665}, {\"x1\": 0.7333333333333334, \"x2\": 0.7333333333333334}, {\"x1\": 0.19999999999999996, \"x2\": 0.33333333333333326}, {\"x1\": 0.19999999999999996, \"x2\": 0.46666666666666656}, {\"x1\": 1.0, \"x2\": 0.19999999999999996}, {\"x1\": -0.7333333333333334, \"x2\": -0.19999999999999996}, {\"x1\": 0.46666666666666656, \"x2\": 0.46666666666666656}, {\"x1\": 0.6000000000000001, \"x2\": 0.7333333333333334}, {\"x1\": 0.33333333333333326, \"x2\": 0.33333333333333326}, {\"x1\": -0.7333333333333334, \"x2\": 0.6000000000000001}, {\"x1\": -0.33333333333333337, \"x2\": 0.33333333333333326}, {\"x1\": 0.46666666666666656, \"x2\": 0.46666666666666656}]}}, {\"mode\": \"vega-lite\"});\n",
       "</script>"
      ],
      "text/plain": [
       "alt.Chart(...)"
      ]
     },
     "execution_count": 158,
     "metadata": {},
     "output_type": "execute_result"
    }
   ],
   "source": [
    "alt.Chart(df_tfidf).mark_point().encode(\n",
    "x='x1',y='x2',\n",
    "tooltip=[\"x1\", \"x2\"]\n",
    ").properties(title=\"GTM tfidf\").interactive()"
   ]
  },
  {
   "cell_type": "code",
   "execution_count": null,
   "metadata": {},
   "outputs": [],
   "source": [
    "df_tfidf.to_csv(\"../data/textvector/gtm_transformed_tfidf.csv\", index = False)"
   ]
  },
  {
   "cell_type": "markdown",
   "metadata": {},
   "source": [
    "## 역맵핑"
   ]
  },
  {
   "cell_type": "code",
   "execution_count": 166,
   "metadata": {},
   "outputs": [],
   "source": [
    "inv_tfidf = np.linalg.pinv(tfidf_vector)\n",
    "inner_tfidf = np.matmul(inv_tfidf, transformed_tfidf)\n",
    "inv_inner_t = np.linalg.pinv(inner_tfidf)"
   ]
  },
  {
   "cell_type": "code",
   "execution_count": 167,
   "metadata": {},
   "outputs": [],
   "source": [
    "tfidf_vacant = pd.read_csv(\"../data/textvector/tfidf_vacant.csv\")"
   ]
  },
  {
   "cell_type": "code",
   "execution_count": 168,
   "metadata": {},
   "outputs": [],
   "source": [
    "t_vacant_num = tfidf_vacant['Unnamed: 0']"
   ]
  },
  {
   "cell_type": "code",
   "execution_count": 169,
   "metadata": {},
   "outputs": [],
   "source": [
    "tfidf_vacant = tfidf_vacant.drop(['Unnamed: 0'], axis=1)\n",
    "tfidf_vacant_vec = tfidf_vacant.to_numpy()"
   ]
  },
  {
   "cell_type": "code",
   "execution_count": 170,
   "metadata": {},
   "outputs": [],
   "source": [
    "inv_vacant_tfidf = np.matmul(tfidf_vacant_vec, inv_inner_t)"
   ]
  },
  {
   "cell_type": "code",
   "execution_count": 171,
   "metadata": {},
   "outputs": [],
   "source": [
    "inv_vacant_tfidf_df = pd.DataFrame(inv_vacant_tfidf, columns=tfidf.columns)"
   ]
  },
  {
   "cell_type": "code",
   "execution_count": 172,
   "metadata": {},
   "outputs": [],
   "source": [
    "inv_vacant_tfidf_df.insert(0, 'vacant_number', t_vacant_num)\n",
    "inv_vacant_tfidf_df.to_csv(\"../data/textvector/inv_transformed_tfidf.csv\", index = False)"
   ]
  }
 ],
 "metadata": {
  "kernelspec": {
   "display_name": "Python 3",
   "language": "python",
   "name": "python3"
  },
  "language_info": {
   "codemirror_mode": {
    "name": "ipython",
    "version": 3
   },
   "file_extension": ".py",
   "mimetype": "text/x-python",
   "name": "python",
   "nbconvert_exporter": "python",
   "pygments_lexer": "ipython3",
   "version": "3.7.6"
  }
 },
 "nbformat": 4,
 "nbformat_minor": 5
}
